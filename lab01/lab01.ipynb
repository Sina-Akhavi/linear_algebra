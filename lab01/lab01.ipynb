{
 "cells": [
  {
   "cell_type": "code",
   "execution_count": 1,
   "id": "90fc2888-36d2-4329-ad11-1ba72e532c60",
   "metadata": {},
   "outputs": [
    {
     "data": {
      "text/plain": [
       "[1, 2, 3]"
      ]
     },
     "execution_count": 1,
     "metadata": {},
     "output_type": "execute_result"
    }
   ],
   "source": [
    "l = [1, 2, 3]\n",
    "l"
   ]
  },
  {
   "cell_type": "code",
   "execution_count": 4,
   "id": "5462de98-88b3-4bab-b468-a4818a7fb284",
   "metadata": {},
   "outputs": [
    {
     "data": {
      "text/plain": [
       "array([1, 2, 3])"
      ]
     },
     "execution_count": 4,
     "metadata": {},
     "output_type": "execute_result"
    }
   ],
   "source": [
    "import numpy as np\n",
    "\n",
    "a = np.array(l)\n",
    "a"
   ]
  },
  {
   "cell_type": "code",
   "execution_count": 5,
   "id": "1509a129-95f4-4fae-8fe1-aa2df9a761ed",
   "metadata": {},
   "outputs": [
    {
     "data": {
      "text/plain": [
       "list"
      ]
     },
     "execution_count": 5,
     "metadata": {},
     "output_type": "execute_result"
    }
   ],
   "source": [
    "type(l)"
   ]
  },
  {
   "cell_type": "code",
   "execution_count": 10,
   "id": "4b6d068a-8b95-4198-8cf7-f41a0f9fbb6c",
   "metadata": {},
   "outputs": [
    {
     "data": {
      "text/plain": [
       "numpy.ndarray"
      ]
     },
     "execution_count": 10,
     "metadata": {},
     "output_type": "execute_result"
    }
   ],
   "source": [
    "type(a)"
   ]
  },
  {
   "cell_type": "code",
   "execution_count": 9,
   "id": "200154ff-6c0b-43d1-9179-5c176349729a",
   "metadata": {},
   "outputs": [
    {
     "data": {
      "text/plain": [
       "5"
      ]
     },
     "execution_count": 9,
     "metadata": {},
     "output_type": "execute_result"
    }
   ],
   "source": [
    "a[2] = 5\n",
    "a[2]"
   ]
  },
  {
   "cell_type": "code",
   "execution_count": 11,
   "id": "d3a87369-2702-4a8e-a3b0-1d992b865107",
   "metadata": {},
   "outputs": [
    {
     "data": {
      "text/plain": [
       "array([0., 0., 0., 0., 0., 0., 0., 0., 0., 0.])"
      ]
     },
     "execution_count": 11,
     "metadata": {},
     "output_type": "execute_result"
    }
   ],
   "source": [
    "a = np.zeros(10)\n",
    "a"
   ]
  },
  {
   "cell_type": "code",
   "execution_count": 12,
   "id": "c7131fda-e217-4a3d-8acd-04d7f08187af",
   "metadata": {},
   "outputs": [
    {
     "data": {
      "text/plain": [
       "dtype('float64')"
      ]
     },
     "execution_count": 12,
     "metadata": {},
     "output_type": "execute_result"
    }
   ],
   "source": [
    "a.dtype"
   ]
  },
  {
   "cell_type": "code",
   "execution_count": 13,
   "id": "b59a0ef5-c415-4bd0-b689-48d655e8353a",
   "metadata": {},
   "outputs": [
    {
     "data": {
      "text/plain": [
       "array([0., 0., 4., 0., 0., 0., 0., 0., 0., 0.])"
      ]
     },
     "execution_count": 13,
     "metadata": {},
     "output_type": "execute_result"
    }
   ],
   "source": [
    "a[2] = 4\n",
    "a"
   ]
  },
  {
   "cell_type": "code",
   "execution_count": 14,
   "id": "0c36d510-3670-443e-be22-c17abd9c0218",
   "metadata": {},
   "outputs": [
    {
     "data": {
      "text/plain": [
       "array([0, 0, 0, 0, 0, 0, 0, 0, 0, 0])"
      ]
     },
     "execution_count": 14,
     "metadata": {},
     "output_type": "execute_result"
    }
   ],
   "source": [
    "a = np.zeros(10, dtype=np.int64)\n",
    "a"
   ]
  },
  {
   "cell_type": "code",
   "execution_count": 15,
   "id": "478d4786-758d-449a-9d3f-37dc315ea8fe",
   "metadata": {},
   "outputs": [
    {
     "data": {
      "text/plain": [
       "dtype('int64')"
      ]
     },
     "execution_count": 15,
     "metadata": {},
     "output_type": "execute_result"
    }
   ],
   "source": [
    "a.dtype"
   ]
  },
  {
   "cell_type": "code",
   "execution_count": 18,
   "id": "51f73935-10ed-4d3d-a8ba-0cabee10cde5",
   "metadata": {},
   "outputs": [
    {
     "data": {
      "text/plain": [
       "9"
      ]
     },
     "execution_count": 18,
     "metadata": {},
     "output_type": "execute_result"
    }
   ],
   "source": [
    "a[4] = 9.5\n",
    "a[4]"
   ]
  },
  {
   "cell_type": "code",
   "execution_count": 19,
   "id": "16e4b07b-6f08-45aa-9add-f87dfd86acc1",
   "metadata": {},
   "outputs": [
    {
     "data": {
      "text/plain": [
       "array([1., 1., 1., 1., 1., 1., 1., 1., 1., 1.])"
      ]
     },
     "execution_count": 19,
     "metadata": {},
     "output_type": "execute_result"
    }
   ],
   "source": [
    "a = np.ones(10)\n",
    "a"
   ]
  },
  {
   "cell_type": "code",
   "execution_count": 20,
   "id": "67162640-19fc-442e-92c1-9280198660c7",
   "metadata": {},
   "outputs": [
    {
     "data": {
      "text/plain": [
       "dtype('float64')"
      ]
     },
     "execution_count": 20,
     "metadata": {},
     "output_type": "execute_result"
    }
   ],
   "source": [
    "a.dtype"
   ]
  },
  {
   "cell_type": "code",
   "execution_count": 21,
   "id": "f719b240-5a30-4056-997f-8c5b78b5ad37",
   "metadata": {},
   "outputs": [
    {
     "data": {
      "text/plain": [
       "array([-20., -20., -20., -20., -20., -20., -20., -20., -20., -20.])"
      ]
     },
     "execution_count": 21,
     "metadata": {},
     "output_type": "execute_result"
    }
   ],
   "source": [
    "a = np.ones(10) * (-20)\n",
    "a"
   ]
  },
  {
   "cell_type": "code",
   "execution_count": 22,
   "id": "56c5a16e-8017-452c-9c45-cae78a639b26",
   "metadata": {},
   "outputs": [
    {
     "data": {
      "text/plain": [
       "array([222, 222, 222, 222, 222, 222, 222, 222, 222, 222])"
      ]
     },
     "execution_count": 22,
     "metadata": {},
     "output_type": "execute_result"
    }
   ],
   "source": [
    "a = np.full(10, 222)\n",
    "a"
   ]
  },
  {
   "cell_type": "code",
   "execution_count": 23,
   "id": "4ccb1398-4ace-4f5b-871b-8fa6df3d69e5",
   "metadata": {},
   "outputs": [
    {
     "data": {
      "text/plain": [
       "array([0, 1, 2, 3, 4, 5, 6, 7, 8, 9])"
      ]
     },
     "execution_count": 23,
     "metadata": {},
     "output_type": "execute_result"
    }
   ],
   "source": [
    "a = np.arange(10)\n",
    "a"
   ]
  },
  {
   "cell_type": "code",
   "execution_count": 24,
   "id": "b08fc7c8-9c57-4661-af9c-40b82b43b8a3",
   "metadata": {},
   "outputs": [
    {
     "data": {
      "text/plain": [
       "dtype('int64')"
      ]
     },
     "execution_count": 24,
     "metadata": {},
     "output_type": "execute_result"
    }
   ],
   "source": [
    "a.dtype"
   ]
  },
  {
   "cell_type": "code",
   "execution_count": 25,
   "id": "3cc3ae25-9d3c-4a7c-b1f2-59a0e7c4558b",
   "metadata": {},
   "outputs": [
    {
     "data": {
      "text/plain": [
       "array([  1,   2,   4,   8,  16,  32,  64, 128, 256, 512])"
      ]
     },
     "execution_count": 25,
     "metadata": {},
     "output_type": "execute_result"
    }
   ],
   "source": [
    "2 ** a"
   ]
  },
  {
   "cell_type": "code",
   "execution_count": 26,
   "id": "289f3d44-fa8f-4e7e-9c37-857f670c1d19",
   "metadata": {},
   "outputs": [
    {
     "data": {
      "text/plain": [
       "array([ 1,  2,  3,  4,  5,  6,  7,  8,  9, 10])"
      ]
     },
     "execution_count": 26,
     "metadata": {},
     "output_type": "execute_result"
    }
   ],
   "source": [
    "1 + a"
   ]
  },
  {
   "cell_type": "code",
   "execution_count": 27,
   "id": "9cac5122-be3d-4b67-8110-5435b3ae5cde",
   "metadata": {},
   "outputs": [
    {
     "data": {
      "text/plain": [
       "array([ 2,  1,  0, -1, -2, -3, -4, -5, -6, -7])"
      ]
     },
     "execution_count": 27,
     "metadata": {},
     "output_type": "execute_result"
    }
   ],
   "source": [
    "2 - a"
   ]
  },
  {
   "cell_type": "code",
   "execution_count": 53,
   "id": "00a4d0ff-5ab0-4575-99ab-b6ef6e7aec33",
   "metadata": {},
   "outputs": [
    {
     "data": {
      "text/plain": [
       "8"
      ]
     },
     "execution_count": 53,
     "metadata": {},
     "output_type": "execute_result"
    }
   ],
   "source": [
    "a = np.array([[2.,2.,7.], [4., 8., 7.]])\n",
    "len(a)\n",
    "a.itemsize"
   ]
  },
  {
   "cell_type": "code",
   "execution_count": 38,
   "id": "6365bf40-9b32-4f4f-8341-3be3b7713729",
   "metadata": {},
   "outputs": [
    {
     "data": {
      "text/plain": [
       "(2, 3)"
      ]
     },
     "execution_count": 38,
     "metadata": {},
     "output_type": "execute_result"
    }
   ],
   "source": [
    "a.shape"
   ]
  },
  {
   "cell_type": "code",
   "execution_count": 39,
   "id": "2db1f525-b29f-4809-baab-b41e4fe56cbb",
   "metadata": {},
   "outputs": [
    {
     "data": {
      "text/plain": [
       "numpy.ndarray"
      ]
     },
     "execution_count": 39,
     "metadata": {},
     "output_type": "execute_result"
    }
   ],
   "source": [
    "type(a)\n",
    "# a.dtype"
   ]
  },
  {
   "cell_type": "code",
   "execution_count": 40,
   "id": "eca200a0-7927-4fd6-aaea-9ac2dbcb87dd",
   "metadata": {},
   "outputs": [
    {
     "data": {
      "text/plain": [
       "6"
      ]
     },
     "execution_count": 40,
     "metadata": {},
     "output_type": "execute_result"
    }
   ],
   "source": [
    "a.size"
   ]
  },
  {
   "cell_type": "code",
   "execution_count": 41,
   "id": "536e2743-fc4a-41de-98ca-bab839f1fdae",
   "metadata": {},
   "outputs": [
    {
     "data": {
      "text/plain": [
       "2"
      ]
     },
     "execution_count": 41,
     "metadata": {},
     "output_type": "execute_result"
    }
   ],
   "source": [
    "a.ndim"
   ]
  },
  {
   "cell_type": "code",
   "execution_count": 47,
   "id": "8e47d17d-a67d-4f10-b513-55e5cac0bb89",
   "metadata": {},
   "outputs": [
    {
     "data": {
      "text/plain": [
       "48"
      ]
     },
     "execution_count": 47,
     "metadata": {},
     "output_type": "execute_result"
    }
   ],
   "source": [
    "a.nbytes"
   ]
  },
  {
   "cell_type": "code",
   "execution_count": 46,
   "id": "d5d64b53-3fbb-4d84-bdca-12bc558348cf",
   "metadata": {},
   "outputs": [
    {
     "data": {
      "text/plain": [
       "176"
      ]
     },
     "execution_count": 46,
     "metadata": {},
     "output_type": "execute_result"
    }
   ],
   "source": [
    "import sys\n",
    "sys.getsizeof(a)"
   ]
  },
  {
   "cell_type": "code",
   "execution_count": 48,
   "id": "1214ebcc-88bc-44f5-aba6-537c9a381118",
   "metadata": {},
   "outputs": [
    {
     "data": {
      "text/plain": [
       "[1, 2, 3, 10, 12, 13]"
      ]
     },
     "execution_count": 48,
     "metadata": {},
     "output_type": "execute_result"
    }
   ],
   "source": [
    "# list vs. numpy arrays\n",
    "l1 = [1, 2, 3]\n",
    "l2 = [10, 12, 13]\n",
    "l1 + l2"
   ]
  },
  {
   "cell_type": "code",
   "execution_count": 49,
   "id": "c8a0950b-0ad4-47ff-9d29-3e8f9b32ba5c",
   "metadata": {},
   "outputs": [
    {
     "data": {
      "text/plain": [
       "array([11, 14, 16])"
      ]
     },
     "execution_count": 49,
     "metadata": {},
     "output_type": "execute_result"
    }
   ],
   "source": [
    "a1 = np.array(l1)\n",
    "a2 = np.array(l2)\n",
    "a1 + a2"
   ]
  },
  {
   "cell_type": "code",
   "execution_count": 51,
   "id": "415886f9-f9e0-4e44-9ce0-c309321272ca",
   "metadata": {},
   "outputs": [
    {
     "data": {
      "text/plain": [
       "8"
      ]
     },
     "execution_count": 51,
     "metadata": {},
     "output_type": "execute_result"
    }
   ],
   "source": [
    "a1.itemsize"
   ]
  },
  {
   "cell_type": "code",
   "execution_count": 77,
   "id": "b1f86545-7d1b-4e9b-a615-b93de2c4eaf2",
   "metadata": {},
   "outputs": [
    {
     "name": "stdout",
     "output_type": "stream",
     "text": [
      "8 4 2 1 1\n",
      "80 40 20 10 10\n"
     ]
    },
    {
     "name": "stderr",
     "output_type": "stream",
     "text": [
      "/tmp/ipykernel_4178/2560229294.py:5: DeprecationWarning: NumPy will stop allowing conversion of out-of-bound Python integers to integer arrays.  The conversion of -8 to uint8 will fail in the future.\n",
      "For the old behavior, usually:\n",
      "    np.array(value).astype(dtype)`\n",
      "will give the desired result (the cast overflows).\n",
      "  e = np.array([1, 2, 3, 4, 5, 6, 7, -8, 9, 256], dtype = np.uint8)\n",
      "/tmp/ipykernel_4178/2560229294.py:5: DeprecationWarning: NumPy will stop allowing conversion of out-of-bound Python integers to integer arrays.  The conversion of 256 to uint8 will fail in the future.\n",
      "For the old behavior, usually:\n",
      "    np.array(value).astype(dtype)`\n",
      "will give the desired result (the cast overflows).\n",
      "  e = np.array([1, 2, 3, 4, 5, 6, 7, -8, 9, 256], dtype = np.uint8)\n"
     ]
    }
   ],
   "source": [
    "a = np.array([1, 2, 3, 4, 5, 6, 7, 8, 9, 10], dtype = np.int64)\n",
    "b = np.array([1, 2, 3, 4, 5, 6, 7, 8, 9, 10], dtype = np.int32)\n",
    "c = np.array([1, 2, 3, 4, 5, 6, 7, 8, 9, 10], dtype = np.int16)\n",
    "d = np.array([1, 2, 3, 4, 5, 6, 7, 8, 9, -127], dtype = np.int8)\n",
    "e = np.array([1, 2, 3, 4, 5, 6, 7, 8, 9, 256], dtype = np.uint8)\n",
    "\n",
    "print(a.itemsize, b.itemsize, c.itemsize, d.itemsize, e.itemsize)\n",
    "print(a.nbytes, b.nbytes, c.nbytes, d.nbytes, e.nbytes)"
   ]
  },
  {
   "cell_type": "code",
   "execution_count": 73,
   "id": "db17f0fe-f055-4693-a56e-d2bef48d3eea",
   "metadata": {},
   "outputs": [
    {
     "data": {
      "text/plain": [
       "array([ -3,  -2,  -1,   0,   1,   2,   3,   4,   5, 123], dtype=int8)"
      ]
     },
     "execution_count": 73,
     "metadata": {},
     "output_type": "execute_result"
    }
   ],
   "source": [
    "d - 4"
   ]
  },
  {
   "cell_type": "code",
   "execution_count": 59,
   "id": "b2487d2f-7e07-4486-a4e9-1aad260965a5",
   "metadata": {},
   "outputs": [
    {
     "data": {
      "text/plain": [
       "array([253, 254, 255,   0,   1,   2,   3,   4,   5,   6], dtype=uint8)"
      ]
     },
     "execution_count": 59,
     "metadata": {},
     "output_type": "execute_result"
    }
   ],
   "source": [
    "e - 4"
   ]
  },
  {
   "cell_type": "code",
   "execution_count": 79,
   "id": "3120f94d-70b0-405c-b619-50b8870ab350",
   "metadata": {},
   "outputs": [
    {
     "name": "stdout",
     "output_type": "stream",
     "text": [
      "40 80 160\n"
     ]
    }
   ],
   "source": [
    "f = np.array([1,2,3,4,5,6,7,8,9,10], dtype=np.float32)\n",
    "g = np.array([1,2,3,4,5,6,7,8,9,10], dtype=np.float64)\n",
    "h = np.array([1,2,3,4,5,6,7,8,9,10], dtype=np.float128)\n",
    "\n",
    "print(f.nbytes, g.nbytes, h.nbytes)"
   ]
  },
  {
   "cell_type": "code",
   "execution_count": 81,
   "id": "db382db3-76cf-4070-a74f-c37fd4f8e9a5",
   "metadata": {},
   "outputs": [
    {
     "data": {
      "text/plain": [
       "dtype('bool')"
      ]
     },
     "execution_count": 81,
     "metadata": {},
     "output_type": "execute_result"
    }
   ],
   "source": [
    "l = np.array([False, True, True])\n",
    "l.dtype"
   ]
  },
  {
   "cell_type": "code",
   "execution_count": 84,
   "id": "660805c5-8b9d-4931-bdee-19cca8e2255e",
   "metadata": {},
   "outputs": [
    {
     "data": {
      "text/plain": [
       "dtype('bool')"
      ]
     },
     "execution_count": 84,
     "metadata": {},
     "output_type": "execute_result"
    }
   ],
   "source": [
    "l = np.array([0, 1, 1], dtype = 'bool')\n",
    "l\n",
    "l.dtype"
   ]
  },
  {
   "cell_type": "code",
   "execution_count": 91,
   "id": "8f690289-1240-4d1d-a10c-3d0e61897e31",
   "metadata": {},
   "outputs": [],
   "source": [
    "a1 = np.array([2, 3, 4])\n",
    "a2 = np.array([1, 6, 5])"
   ]
  },
  {
   "cell_type": "code",
   "execution_count": 95,
   "id": "f3410133-1cf4-434d-bd99-6fd40f55bbca",
   "metadata": {},
   "outputs": [
    {
     "data": {
      "text/plain": [
       "array([2, 0, 0])"
      ]
     },
     "execution_count": 95,
     "metadata": {},
     "output_type": "execute_result"
    }
   ],
   "source": [
    "a1 + a2\n",
    "a1 * a2\n",
    "a1 / a2\n",
    "a1 ** a2\n",
    "a1 // a2"
   ]
  },
  {
   "cell_type": "code",
   "execution_count": 93,
   "id": "7bceca11-f2d3-4fb6-a866-21cf0d99ff3a",
   "metadata": {},
   "outputs": [
    {
     "data": {
      "text/plain": [
       "dtype('int64')"
      ]
     },
     "execution_count": 93,
     "metadata": {},
     "output_type": "execute_result"
    }
   ],
   "source": [
    "a1.dtype"
   ]
  },
  {
   "cell_type": "code",
   "execution_count": 105,
   "id": "ce387abf-749b-4130-b63d-adc4d5a7f8b9",
   "metadata": {},
   "outputs": [],
   "source": [
    "b = np.array([4,5,6])\n",
    "a = np.array([1.0,2,3])"
   ]
  },
  {
   "cell_type": "code",
   "execution_count": 98,
   "id": "89fbb2b1-7995-475e-bf3e-961413b07e22",
   "metadata": {},
   "outputs": [
    {
     "data": {
      "text/plain": [
       "array([1., 2., 3.])"
      ]
     },
     "execution_count": 98,
     "metadata": {},
     "output_type": "execute_result"
    }
   ],
   "source": [
    "a"
   ]
  },
  {
   "cell_type": "code",
   "execution_count": 106,
   "id": "31fd3324-0887-4c81-8ea1-611c85f60661",
   "metadata": {},
   "outputs": [
    {
     "data": {
      "text/plain": [
       "dtype('float64')"
      ]
     },
     "execution_count": 106,
     "metadata": {},
     "output_type": "execute_result"
    }
   ],
   "source": [
    "a.dtype"
   ]
  },
  {
   "cell_type": "code",
   "execution_count": 103,
   "id": "3073dcfd-4f1f-4977-80b7-c2322013b9ca",
   "metadata": {},
   "outputs": [
    {
     "data": {
      "text/plain": [
       "array([0.25, 0.4 , 0.5 ])"
      ]
     },
     "execution_count": 103,
     "metadata": {},
     "output_type": "execute_result"
    }
   ],
   "source": [
    "a / b"
   ]
  },
  {
   "cell_type": "code",
   "execution_count": 107,
   "id": "14a4abc4-45d5-4272-9f13-7bd56a365023",
   "metadata": {},
   "outputs": [
    {
     "data": {
      "text/plain": [
       "array([0., 0., 0.])"
      ]
     },
     "execution_count": 107,
     "metadata": {},
     "output_type": "execute_result"
    }
   ],
   "source": [
    "a // b"
   ]
  },
  {
   "cell_type": "code",
   "execution_count": 108,
   "id": "00a2dbed-793f-4528-90d4-ed837a1385a5",
   "metadata": {},
   "outputs": [
    {
     "data": {
      "text/plain": [
       "array([1., 2., 3.])"
      ]
     },
     "execution_count": 108,
     "metadata": {},
     "output_type": "execute_result"
    }
   ],
   "source": [
    "a = np.array([1,2,3], dtype=np.float64)\n",
    "a"
   ]
  },
  {
   "cell_type": "code",
   "execution_count": 118,
   "id": "a77c32b9-d259-49d3-af70-0665e5f13695",
   "metadata": {},
   "outputs": [
    {
     "data": {
      "text/plain": [
       "array([40, 70, 90])"
      ]
     },
     "execution_count": 118,
     "metadata": {},
     "output_type": "execute_result"
    }
   ],
   "source": [
    "a = np.array([0,10,20,30,40, 50, 60, 70, 80, 90, 100])\n",
    "a[2:-1] # **\n",
    "a[2:8:2]\n",
    "a[2:8:-1] # **\n",
    "a[8:2:-1] # **\n",
    "a[::-1]\n",
    "a[[4, 7, 9]] # **"
   ]
  },
  {
   "cell_type": "code",
   "execution_count": null,
   "id": "2a26f67f-b6d9-446e-b3bf-370bb9e88393",
   "metadata": {},
   "outputs": [],
   "source": [
    "# 2D array"
   ]
  },
  {
   "cell_type": "code",
   "execution_count": 124,
   "id": "9eb9bd26-592e-44b4-afd7-71fad89846bb",
   "metadata": {},
   "outputs": [
    {
     "data": {
      "text/plain": [
       "dtype('float64')"
      ]
     },
     "execution_count": 124,
     "metadata": {},
     "output_type": "execute_result"
    }
   ],
   "source": [
    "A = np.zeros((4, 6))\n",
    "A.dtype"
   ]
  },
  {
   "cell_type": "code",
   "execution_count": 123,
   "id": "fcbfb02f-32fb-485f-a842-817b1f8cc8a0",
   "metadata": {},
   "outputs": [
    {
     "data": {
      "text/plain": [
       "array([[0, 0, 0, 0, 0, 0],\n",
       "       [0, 0, 0, 0, 0, 0],\n",
       "       [0, 0, 0, 0, 0, 0],\n",
       "       [0, 0, 0, 0, 0, 0]], dtype=int32)"
      ]
     },
     "execution_count": 123,
     "metadata": {},
     "output_type": "execute_result"
    }
   ],
   "source": [
    "A = np.zeros((4,6), dtype=np.int32)\n",
    "A"
   ]
  },
  {
   "cell_type": "code",
   "execution_count": 126,
   "id": "252be988-e1b1-4b7a-aba0-28b4570068a3",
   "metadata": {},
   "outputs": [
    {
     "data": {
      "text/plain": [
       "array([[1, 1, 1, 1, 1, 1, 1, 1],\n",
       "       [1, 1, 1, 1, 1, 1, 1, 1],\n",
       "       [1, 1, 1, 1, 1, 1, 1, 1]], dtype=uint8)"
      ]
     },
     "execution_count": 126,
     "metadata": {},
     "output_type": "execute_result"
    }
   ],
   "source": [
    "A = np.ones((3, 8), dtype = np.uint8)\n",
    "A"
   ]
  },
  {
   "cell_type": "code",
   "execution_count": 133,
   "id": "9259f1a0-2bbc-474e-bf28-97087219283b",
   "metadata": {},
   "outputs": [
    {
     "data": {
      "text/plain": [
       "dtype('int64')"
      ]
     },
     "execution_count": 133,
     "metadata": {},
     "output_type": "execute_result"
    }
   ],
   "source": [
    "a = np.full((2, 3), 25, dtype=np.float32)\n",
    "a = np.full((2, 3), 25)\n",
    "a.dtype"
   ]
  },
  {
   "cell_type": "code",
   "execution_count": 135,
   "id": "e1582bfe-e073-412a-b4d5-fcf9c5c9ae0a",
   "metadata": {},
   "outputs": [],
   "source": [
    "A = np.array([[1,2,3,4], [5,6,7,8], [9,10,11,12]])"
   ]
  },
  {
   "cell_type": "code",
   "execution_count": 136,
   "id": "630549c7-8075-4c48-9ec3-93e3fab6399f",
   "metadata": {},
   "outputs": [
    {
     "data": {
      "text/plain": [
       "7"
      ]
     },
     "execution_count": 136,
     "metadata": {},
     "output_type": "execute_result"
    }
   ],
   "source": [
    "A[1,2]"
   ]
  },
  {
   "cell_type": "code",
   "execution_count": 137,
   "id": "c39a0a79-f384-4210-9991-7b4eebd8664f",
   "metadata": {},
   "outputs": [
    {
     "data": {
      "text/plain": [
       "11"
      ]
     },
     "execution_count": 137,
     "metadata": {},
     "output_type": "execute_result"
    }
   ],
   "source": [
    "A[2, -2]"
   ]
  },
  {
   "cell_type": "code",
   "execution_count": 138,
   "id": "7ccd5b0f-0597-44fa-ba2a-4fb88701b70a",
   "metadata": {},
   "outputs": [
    {
     "data": {
      "text/plain": [
       "5"
      ]
     },
     "execution_count": 138,
     "metadata": {},
     "output_type": "execute_result"
    }
   ],
   "source": [
    "A[1, 0]"
   ]
  },
  {
   "cell_type": "code",
   "execution_count": 139,
   "id": "10a70f87-df4a-4e8c-9e3d-69888fbd9c2c",
   "metadata": {},
   "outputs": [
    {
     "data": {
      "text/plain": [
       "(3, 4)"
      ]
     },
     "execution_count": 139,
     "metadata": {},
     "output_type": "execute_result"
    }
   ],
   "source": [
    "A.shape"
   ]
  },
  {
   "cell_type": "code",
   "execution_count": 140,
   "id": "a2d1c244-9002-490e-8d8c-98fcb8407eab",
   "metadata": {},
   "outputs": [
    {
     "data": {
      "text/plain": [
       "(4, 3)"
      ]
     },
     "execution_count": 140,
     "metadata": {},
     "output_type": "execute_result"
    }
   ],
   "source": [
    "A.shape[::-1]"
   ]
  },
  {
   "cell_type": "code",
   "execution_count": 141,
   "id": "cb5a5711-409f-4af9-a007-8ffd529a8ac8",
   "metadata": {},
   "outputs": [
    {
     "data": {
      "text/plain": [
       "12"
      ]
     },
     "execution_count": 141,
     "metadata": {},
     "output_type": "execute_result"
    }
   ],
   "source": [
    "A.size"
   ]
  },
  {
   "cell_type": "code",
   "execution_count": 142,
   "id": "e8df6b04-db8e-441a-ad9a-f435334e86e6",
   "metadata": {},
   "outputs": [
    {
     "data": {
      "text/plain": [
       "2"
      ]
     },
     "execution_count": 142,
     "metadata": {},
     "output_type": "execute_result"
    }
   ],
   "source": [
    "A.ndim"
   ]
  },
  {
   "cell_type": "code",
   "execution_count": 143,
   "id": "aa7c001b-7d92-4bbe-8df7-ba61f6dacc35",
   "metadata": {},
   "outputs": [
    {
     "data": {
      "text/plain": [
       "(4,)"
      ]
     },
     "execution_count": 143,
     "metadata": {},
     "output_type": "execute_result"
    }
   ],
   "source": [
    "A[0].shape"
   ]
  },
  {
   "cell_type": "code",
   "execution_count": 148,
   "id": "4cba7bbd-b625-474e-a6de-d70dfd683bd7",
   "metadata": {},
   "outputs": [
    {
     "data": {
      "text/plain": [
       "array([1, 2, 3, 4])"
      ]
     },
     "execution_count": 148,
     "metadata": {},
     "output_type": "execute_result"
    }
   ],
   "source": [
    "A[0]"
   ]
  },
  {
   "cell_type": "code",
   "execution_count": 155,
   "id": "b82f50e5-b0db-4a19-bbda-69a942dee301",
   "metadata": {},
   "outputs": [
    {
     "data": {
      "text/plain": [
       "array([[1, 2, 3, 4]])"
      ]
     },
     "execution_count": 155,
     "metadata": {},
     "output_type": "execute_result"
    }
   ],
   "source": [
    "A[[0]]"
   ]
  },
  {
   "cell_type": "code",
   "execution_count": 150,
   "id": "bd7b1028-8b65-477d-bc79-fef515101c05",
   "metadata": {},
   "outputs": [
    {
     "data": {
      "text/plain": [
       "(1, 4)"
      ]
     },
     "execution_count": 150,
     "metadata": {},
     "output_type": "execute_result"
    }
   ],
   "source": [
    "A[[0], :].shape # **"
   ]
  },
  {
   "cell_type": "code",
   "execution_count": 156,
   "id": "65a65958-710b-4dc3-b7e7-b12ced6ce49f",
   "metadata": {},
   "outputs": [
    {
     "data": {
      "text/plain": [
       "array([ 3,  7, 11])"
      ]
     },
     "execution_count": 156,
     "metadata": {},
     "output_type": "execute_result"
    }
   ],
   "source": [
    "A[:, 2]"
   ]
  },
  {
   "cell_type": "code",
   "execution_count": 157,
   "id": "7d3ab3b4-736d-4efb-9b28-189f589b2e5b",
   "metadata": {},
   "outputs": [
    {
     "data": {
      "text/plain": [
       "array([[ 3],\n",
       "       [ 7],\n",
       "       [11]])"
      ]
     },
     "execution_count": 157,
     "metadata": {},
     "output_type": "execute_result"
    }
   ],
   "source": [
    "A[:,[2]] # **"
   ]
  },
  {
   "cell_type": "code",
   "execution_count": 158,
   "id": "9d391bf1-5a0c-476e-bcd3-314f6896cbe4",
   "metadata": {},
   "outputs": [
    {
     "data": {
      "text/plain": [
       "(3,)"
      ]
     },
     "execution_count": 158,
     "metadata": {},
     "output_type": "execute_result"
    }
   ],
   "source": [
    "A[:,2].shape"
   ]
  },
  {
   "cell_type": "code",
   "execution_count": 159,
   "id": "53915ffd-5e86-40ba-9c35-7ee665dc8a05",
   "metadata": {},
   "outputs": [
    {
     "data": {
      "text/plain": [
       "(3, 1)"
      ]
     },
     "execution_count": 159,
     "metadata": {},
     "output_type": "execute_result"
    }
   ],
   "source": [
    "A[:, [2]].shape"
   ]
  },
  {
   "cell_type": "code",
   "execution_count": 160,
   "id": "b5fde2ea-6a67-4de7-af36-d671f014e79f",
   "metadata": {},
   "outputs": [
    {
     "data": {
      "text/plain": [
       "array([[ 5,  6,  7,  8],\n",
       "       [ 9, 10, 11, 12]])"
      ]
     },
     "execution_count": 160,
     "metadata": {},
     "output_type": "execute_result"
    }
   ],
   "source": [
    "A[1:3]"
   ]
  },
  {
   "cell_type": "code",
   "execution_count": 168,
   "id": "43f79bad-d468-4110-bf5b-67c238a2c521",
   "metadata": {},
   "outputs": [
    {
     "data": {
      "text/plain": [
       "array([[ 7,  8],\n",
       "       [11, 12]])"
      ]
     },
     "execution_count": 168,
     "metadata": {},
     "output_type": "execute_result"
    }
   ],
   "source": [
    "A = np.array([[1,2,3,4], [5,6,7,8], [9,10,11,12]])\n",
    "A[1:, 2:]"
   ]
  },
  {
   "cell_type": "code",
   "execution_count": 169,
   "id": "a1fa37ed-7385-4534-8e2c-c8c61c59563b",
   "metadata": {},
   "outputs": [
    {
     "data": {
      "text/plain": [
       "array([[ 1,  3],\n",
       "       [ 5,  7],\n",
       "       [ 9, 11]])"
      ]
     },
     "execution_count": 169,
     "metadata": {},
     "output_type": "execute_result"
    }
   ],
   "source": [
    "A[:,::2]"
   ]
  },
  {
   "cell_type": "code",
   "execution_count": 170,
   "id": "9b86edfc-1a8b-49c7-8ac7-74057183bc7b",
   "metadata": {},
   "outputs": [
    {
     "data": {
      "text/plain": [
       "array([[ 4,  3,  2,  1],\n",
       "       [ 8,  7,  6,  5],\n",
       "       [12, 11, 10,  9]])"
      ]
     },
     "execution_count": 170,
     "metadata": {},
     "output_type": "execute_result"
    }
   ],
   "source": [
    "A[:, ::-1]"
   ]
  },
  {
   "cell_type": "code",
   "execution_count": 171,
   "id": "6d0dfd17-d82d-41cf-b489-ecfba6c2ac49",
   "metadata": {},
   "outputs": [],
   "source": [
    "r = np.array([0, 1, 0, 2, 2])"
   ]
  },
  {
   "cell_type": "code",
   "execution_count": 174,
   "id": "ea71d4bc-65cc-4db3-a190-9d0fd123326e",
   "metadata": {},
   "outputs": [
    {
     "data": {
      "text/plain": [
       "array([[ 5,  6,  7,  8],\n",
       "       [ 5,  6,  7,  8],\n",
       "       [ 9, 10, 11, 12]])"
      ]
     },
     "execution_count": 174,
     "metadata": {},
     "output_type": "execute_result"
    }
   ],
   "source": [
    "A[[1, 1, 2]]"
   ]
  },
  {
   "cell_type": "code",
   "execution_count": 175,
   "id": "45a55334-1b27-4b63-8cf0-32f15f8bb2ad",
   "metadata": {},
   "outputs": [
    {
     "data": {
      "text/plain": [
       "array([[ 1,  2,  3,  4],\n",
       "       [ 1,  6,  7,  8],\n",
       "       [ 1, 10, 11, 12]])"
      ]
     },
     "execution_count": 175,
     "metadata": {},
     "output_type": "execute_result"
    }
   ],
   "source": [
    "A[:,0] = 1\n",
    "A"
   ]
  },
  {
   "cell_type": "code",
   "execution_count": 176,
   "id": "495d95d9-5d9a-4d2f-931a-dff134bbc2ab",
   "metadata": {},
   "outputs": [
    {
     "data": {
      "text/plain": [
       "array([[ 1,  2, 20,  4],\n",
       "       [ 1,  6, 20,  8],\n",
       "       [ 1, 10, 20, 12]])"
      ]
     },
     "execution_count": 176,
     "metadata": {},
     "output_type": "execute_result"
    }
   ],
   "source": [
    "A[:, 2] = 20\n",
    "A"
   ]
  },
  {
   "cell_type": "code",
   "execution_count": 183,
   "id": "d479f27c-f393-4049-b275-6a8e75ca343f",
   "metadata": {},
   "outputs": [
    {
     "data": {
      "text/plain": [
       "array([[ 1,  2, 20,  4],\n",
       "       [ 1,  6, 20,  8],\n",
       "       [ 1, 10, 20, 12]])"
      ]
     },
     "execution_count": 183,
     "metadata": {},
     "output_type": "execute_result"
    }
   ],
   "source": [
    "B = np.array([[1,1,1,1], [2,2,2,2], [3,3,3,3]])\n",
    "A"
   ]
  },
  {
   "cell_type": "code",
   "execution_count": 178,
   "id": "b03b0f55-e18e-40be-8480-85fc650ba7b3",
   "metadata": {},
   "outputs": [
    {
     "data": {
      "text/plain": [
       "array([[ 2,  3, 21,  5],\n",
       "       [ 3,  8, 22, 10],\n",
       "       [ 4, 13, 23, 15]])"
      ]
     },
     "execution_count": 178,
     "metadata": {},
     "output_type": "execute_result"
    }
   ],
   "source": [
    "A + B"
   ]
  },
  {
   "cell_type": "code",
   "execution_count": 179,
   "id": "c2b5a9cc-52fa-491a-847e-b60b31b2d062",
   "metadata": {},
   "outputs": [
    {
     "data": {
      "text/plain": [
       "array([[ 1,  2, 20,  4],\n",
       "       [ 2, 12, 40, 16],\n",
       "       [ 3, 30, 60, 36]])"
      ]
     },
     "execution_count": 179,
     "metadata": {},
     "output_type": "execute_result"
    }
   ],
   "source": [
    "A * B"
   ]
  },
  {
   "cell_type": "code",
   "execution_count": 181,
   "id": "b352afee-a755-4598-97e5-9f2d70c801d3",
   "metadata": {},
   "outputs": [
    {
     "ename": "ValueError",
     "evalue": "shapes (3,4) and (3,4) not aligned: 4 (dim 1) != 3 (dim 0)",
     "output_type": "error",
     "traceback": [
      "\u001b[0;31m---------------------------------------------------------------------------\u001b[0m",
      "\u001b[0;31mValueError\u001b[0m                                Traceback (most recent call last)",
      "Cell \u001b[0;32mIn[181], line 1\u001b[0m\n\u001b[0;32m----> 1\u001b[0m \u001b[43mnp\u001b[49m\u001b[38;5;241;43m.\u001b[39;49m\u001b[43mdot\u001b[49m\u001b[43m(\u001b[49m\u001b[43mA\u001b[49m\u001b[43m,\u001b[49m\u001b[43mB\u001b[49m\u001b[43m)\u001b[49m\n",
      "File \u001b[0;32m<__array_function__ internals>:200\u001b[0m, in \u001b[0;36mdot\u001b[0;34m(*args, **kwargs)\u001b[0m\n",
      "\u001b[0;31mValueError\u001b[0m: shapes (3,4) and (3,4) not aligned: 4 (dim 1) != 3 (dim 0)"
     ]
    }
   ],
   "source": [
    "np.dot(A,B)"
   ]
  },
  {
   "cell_type": "code",
   "execution_count": 182,
   "id": "e3d29f0b-621e-49d0-9f72-826579ad54f9",
   "metadata": {},
   "outputs": [
    {
     "ename": "ValueError",
     "evalue": "shapes (3,4) and (3,4) not aligned: 4 (dim 1) != 3 (dim 0)",
     "output_type": "error",
     "traceback": [
      "\u001b[0;31m---------------------------------------------------------------------------\u001b[0m",
      "\u001b[0;31mValueError\u001b[0m                                Traceback (most recent call last)",
      "Cell \u001b[0;32mIn[182], line 1\u001b[0m\n\u001b[0;32m----> 1\u001b[0m \u001b[43mA\u001b[49m\u001b[38;5;241;43m.\u001b[39;49m\u001b[43mdot\u001b[49m\u001b[43m(\u001b[49m\u001b[43mB\u001b[49m\u001b[43m)\u001b[49m\n",
      "\u001b[0;31mValueError\u001b[0m: shapes (3,4) and (3,4) not aligned: 4 (dim 1) != 3 (dim 0)"
     ]
    }
   ],
   "source": [
    "A.dot(B)"
   ]
  },
  {
   "cell_type": "code",
   "execution_count": 184,
   "id": "0cb73d84-e0af-46f4-8509-8b8da67fbf65",
   "metadata": {},
   "outputs": [
    {
     "data": {
      "text/plain": [
       "array([[ 27,  54,  81],\n",
       "       [ 35,  70, 105],\n",
       "       [ 43,  86, 129]])"
      ]
     },
     "execution_count": 184,
     "metadata": {},
     "output_type": "execute_result"
    }
   ],
   "source": [
    "A.dot(B.T)"
   ]
  },
  {
   "cell_type": "code",
   "execution_count": 186,
   "id": "ab432324-cc6f-4dd6-861f-712837407b6d",
   "metadata": {},
   "outputs": [
    {
     "data": {
      "text/plain": [
       "array([[ 27,  54,  81],\n",
       "       [ 35,  70, 105],\n",
       "       [ 43,  86, 129]])"
      ]
     },
     "execution_count": 186,
     "metadata": {},
     "output_type": "execute_result"
    }
   ],
   "source": [
    "A @ B.T"
   ]
  },
  {
   "cell_type": "code",
   "execution_count": 188,
   "id": "4de0007b-193f-479b-b741-ac0084f49bbf",
   "metadata": {},
   "outputs": [
    {
     "data": {
      "text/plain": [
       "array([[1., 0., 0.],\n",
       "       [0., 1., 0.],\n",
       "       [0., 0., 1.]])"
      ]
     },
     "execution_count": 188,
     "metadata": {},
     "output_type": "execute_result"
    }
   ],
   "source": [
    "I = np.eye(3)\n",
    "I"
   ]
  },
  {
   "cell_type": "code",
   "execution_count": 191,
   "id": "6bc4b9b9-e626-4766-b138-d821c7f053ad",
   "metadata": {},
   "outputs": [
    {
     "data": {
      "text/plain": [
       "array([[0.221104  , 0.86503278, 0.20639943],\n",
       "       [0.98991834, 0.37998992, 0.64321686]])"
      ]
     },
     "execution_count": 191,
     "metadata": {},
     "output_type": "execute_result"
    }
   ],
   "source": [
    "np.random.random((2,3))"
   ]
  },
  {
   "cell_type": "code",
   "execution_count": 194,
   "id": "f67a1a3f-8dff-40b5-99b0-ab2a7ea83cfc",
   "metadata": {},
   "outputs": [
    {
     "data": {
      "text/plain": [
       "array([[0.01880188, 0.49552076, 0.2058465 ],\n",
       "       [0.96063189, 0.26527359, 0.01328661]])"
      ]
     },
     "execution_count": 194,
     "metadata": {},
     "output_type": "execute_result"
    }
   ],
   "source": [
    "np.random.rand(2,3)"
   ]
  },
  {
   "cell_type": "code",
   "execution_count": 199,
   "id": "81ca33db-d426-429c-9c3d-2f4fdadbf9a3",
   "metadata": {},
   "outputs": [
    {
     "data": {
      "text/plain": [
       "array([[-0.71949438,  0.09627904, -2.41403961],\n",
       "       [ 0.97520936, -0.10521739, -0.39279494]])"
      ]
     },
     "execution_count": 199,
     "metadata": {},
     "output_type": "execute_result"
    }
   ],
   "source": [
    "np.random.randn(2,3)"
   ]
  },
  {
   "cell_type": "code",
   "execution_count": 200,
   "id": "017aafc9-5680-46b9-8ff9-2d49d715a677",
   "metadata": {},
   "outputs": [],
   "source": [
    "# reference and copy()"
   ]
  },
  {
   "cell_type": "code",
   "execution_count": 201,
   "id": "e0dc1f01-3fb2-40ae-aad5-618051b83043",
   "metadata": {},
   "outputs": [
    {
     "data": {
      "text/plain": [
       "array([ 4,  8, 12])"
      ]
     },
     "execution_count": 201,
     "metadata": {},
     "output_type": "execute_result"
    }
   ],
   "source": [
    "A = np.array([[1,2,3,4], [5,6,7,8], [9,10,11,12]])\n",
    "B = A[:, -1]\n",
    "B"
   ]
  },
  {
   "cell_type": "code",
   "execution_count": 202,
   "id": "fb5a2529-d724-40f5-91c1-0d5b1a08bb66",
   "metadata": {},
   "outputs": [
    {
     "data": {
      "text/plain": [
       "array([[ 1,  2,  3,  4],\n",
       "       [ 5,  6,  7, 80],\n",
       "       [ 9, 10, 11, 12]])"
      ]
     },
     "execution_count": 202,
     "metadata": {},
     "output_type": "execute_result"
    }
   ],
   "source": [
    "B[1] = 80\n",
    "A"
   ]
  },
  {
   "cell_type": "code",
   "execution_count": 205,
   "id": "c3f32bcf-ba8c-40ce-9e71-2fbf116d61f5",
   "metadata": {},
   "outputs": [
    {
     "data": {
      "text/plain": [
       "array([[ 1,  2,  3,  4],\n",
       "       [ 5,  6,  7, 80],\n",
       "       [ 9, 10, 11, 12]])"
      ]
     },
     "execution_count": 205,
     "metadata": {},
     "output_type": "execute_result"
    }
   ],
   "source": [
    "A_cloned = A.copy()\n",
    "B = A_cloned[:, -1]\n",
    "B[-1] = 90\n",
    "A"
   ]
  },
  {
   "cell_type": "code",
   "execution_count": 207,
   "id": "33acbfc4-22e3-48a4-805f-135351ba9844",
   "metadata": {},
   "outputs": [],
   "source": [
    "A = np.array([[1,2,3,4],\n",
    "            [5,6,7,8],\n",
    "            [9,10,11,12]])"
   ]
  },
  {
   "cell_type": "code",
   "execution_count": 208,
   "id": "128f55e6-0e18-433d-9741-22d94d00883d",
   "metadata": {},
   "outputs": [],
   "source": [
    "Mask = np.array([[True, False, True, False],\n",
    "                 [True, True, False, False],\n",
    "                 [False, False, False, True]])"
   ]
  },
  {
   "cell_type": "code",
   "execution_count": 209,
   "id": "1169a94d-a093-45c3-ae0d-ebfa4c97a570",
   "metadata": {},
   "outputs": [
    {
     "data": {
      "text/plain": [
       "dtype('bool')"
      ]
     },
     "execution_count": 209,
     "metadata": {},
     "output_type": "execute_result"
    }
   ],
   "source": [
    "Mask.dtype"
   ]
  },
  {
   "cell_type": "code",
   "execution_count": 210,
   "id": "8ab87f0e-be0b-48f2-be21-e5ddf80d0a21",
   "metadata": {},
   "outputs": [
    {
     "data": {
      "text/plain": [
       "array([ 1,  3,  5,  6, 12])"
      ]
     },
     "execution_count": 210,
     "metadata": {},
     "output_type": "execute_result"
    }
   ],
   "source": [
    "A[Mask]"
   ]
  },
  {
   "cell_type": "code",
   "execution_count": 212,
   "id": "6be4314e-2ea9-4ce9-b922-6ef6370e59fe",
   "metadata": {},
   "outputs": [
    {
     "data": {
      "text/plain": [
       "array([[ 8,  7,  6,  5],\n",
       "       [12, 11, 10,  9]])"
      ]
     },
     "execution_count": 212,
     "metadata": {},
     "output_type": "execute_result"
    }
   ],
   "source": [
    "A[[1, 2], ::-1]"
   ]
  },
  {
   "cell_type": "code",
   "execution_count": 213,
   "id": "107c7306-d4a4-48ef-b509-89c8ed78bc73",
   "metadata": {},
   "outputs": [
    {
     "data": {
      "text/plain": [
       "array([ 2,  4,  7,  8,  9, 10, 11])"
      ]
     },
     "execution_count": 213,
     "metadata": {},
     "output_type": "execute_result"
    }
   ],
   "source": [
    "A[~Mask]"
   ]
  },
  {
   "cell_type": "code",
   "execution_count": 214,
   "id": "c684b59a-175d-4a0c-807d-b7bf83146396",
   "metadata": {},
   "outputs": [
    {
     "data": {
      "text/plain": [
       "array([[222,   2, 222,   4],\n",
       "       [222, 222,   7,   8],\n",
       "       [  9,  10,  11, 222]])"
      ]
     },
     "execution_count": 214,
     "metadata": {},
     "output_type": "execute_result"
    }
   ],
   "source": [
    "A[Mask] = 222\n",
    "A"
   ]
  },
  {
   "cell_type": "code",
   "execution_count": 215,
   "id": "f633ab37-99bf-4075-b307-26f3e90b772c",
   "metadata": {},
   "outputs": [
    {
     "data": {
      "text/plain": [
       "array([[222,   4, 222,   8],\n",
       "       [222, 222,  14,  16],\n",
       "       [ 18,  20,  22, 222]])"
      ]
     },
     "execution_count": 215,
     "metadata": {},
     "output_type": "execute_result"
    }
   ],
   "source": [
    "A[~Mask] *= 2\n",
    "A"
   ]
  },
  {
   "cell_type": "code",
   "execution_count": 216,
   "id": "1b43534f-b4d3-4d3d-a228-1416729ddacf",
   "metadata": {},
   "outputs": [],
   "source": [
    "A = np.array([[1,2,3,4], [5,6,7,8], [9,10,11,12]])"
   ]
  },
  {
   "cell_type": "code",
   "execution_count": 221,
   "id": "dbac24b1-7e4d-4309-ad1c-34626ec18353",
   "metadata": {},
   "outputs": [
    {
     "data": {
      "text/plain": [
       "array([[0, 0, 0, 0],\n",
       "       [0, 0, 0, 0],\n",
       "       [0, 0, 0, 0]])"
      ]
     },
     "execution_count": 221,
     "metadata": {},
     "output_type": "execute_result"
    }
   ],
   "source": [
    "B = np.zeros_like(A)\n",
    "B"
   ]
  },
  {
   "cell_type": "code",
   "execution_count": 218,
   "id": "cdd2ee86-bfb0-4f5a-9550-eb6260aedfa0",
   "metadata": {},
   "outputs": [],
   "source": [
    "B[Mask] = A[Mask]"
   ]
  },
  {
   "cell_type": "code",
   "execution_count": 219,
   "id": "0703e2a2-9dc6-4b6f-bba8-182cbf7dd7c9",
   "metadata": {},
   "outputs": [
    {
     "data": {
      "text/plain": [
       "array([[ 1,  0,  3,  0],\n",
       "       [ 5,  6,  0,  0],\n",
       "       [ 0,  0,  0, 12]])"
      ]
     },
     "execution_count": 219,
     "metadata": {},
     "output_type": "execute_result"
    }
   ],
   "source": [
    "B"
   ]
  },
  {
   "cell_type": "code",
   "execution_count": 222,
   "id": "57b4d3a4-8841-452c-a4a6-3d87071a5b64",
   "metadata": {},
   "outputs": [
    {
     "data": {
      "text/plain": [
       "array([[False, False,  True,  True],\n",
       "       [ True,  True,  True,  True],\n",
       "       [ True,  True,  True,  True]])"
      ]
     },
     "execution_count": 222,
     "metadata": {},
     "output_type": "execute_result"
    }
   ],
   "source": [
    "A > 2"
   ]
  },
  {
   "cell_type": "code",
   "execution_count": 223,
   "id": "9bc3fd84-32f8-475c-92f2-040fb19b5ab2",
   "metadata": {},
   "outputs": [],
   "source": [
    "Mask = A > 2"
   ]
  },
  {
   "cell_type": "code",
   "execution_count": 224,
   "id": "eb45ec74-2265-4dc3-a95e-7797d8322c81",
   "metadata": {},
   "outputs": [
    {
     "data": {
      "text/plain": [
       "array([ 3,  4,  5,  6,  7,  8,  9, 10, 11, 12])"
      ]
     },
     "execution_count": 224,
     "metadata": {},
     "output_type": "execute_result"
    }
   ],
   "source": [
    "A[Mask]"
   ]
  },
  {
   "cell_type": "code",
   "execution_count": 227,
   "id": "829f71f4-5e70-4e5b-91e5-d30dc18bd1cc",
   "metadata": {},
   "outputs": [
    {
     "data": {
      "text/plain": [
       "array([[ 0,  0,  3,  4],\n",
       "       [ 5,  6,  7,  8],\n",
       "       [ 9, 10, 11, 12]])"
      ]
     },
     "execution_count": 227,
     "metadata": {},
     "output_type": "execute_result"
    }
   ],
   "source": [
    "B = np.zeros_like(A)\n",
    "Mask = A > 2\n",
    "B[Mask] = A[Mask]\n",
    "B"
   ]
  },
  {
   "cell_type": "code",
   "execution_count": 229,
   "id": "0b881fac-ba2d-4e97-acd3-b3bfe6d9027d",
   "metadata": {},
   "outputs": [
    {
     "data": {
      "text/plain": [
       "array([[False, False,  True,  True],\n",
       "       [ True,  True,  True,  True],\n",
       "       [ True,  True,  True,  True]])"
      ]
     },
     "execution_count": 229,
     "metadata": {},
     "output_type": "execute_result"
    }
   ],
   "source": [
    "A > 2"
   ]
  },
  {
   "cell_type": "code",
   "execution_count": 231,
   "id": "de09cb29-581c-44ad-a2cd-310034deae21",
   "metadata": {},
   "outputs": [
    {
     "data": {
      "text/plain": [
       "array([[ True,  True,  True,  True],\n",
       "       [ True,  True,  True, False],\n",
       "       [False, False, False, False]])"
      ]
     },
     "execution_count": 231,
     "metadata": {},
     "output_type": "execute_result"
    }
   ],
   "source": [
    "Mask = A < 8\n",
    "Mask"
   ]
  },
  {
   "cell_type": "code",
   "execution_count": 232,
   "id": "1fec77c9-a284-49ca-8d74-fb94551c9125",
   "metadata": {},
   "outputs": [
    {
     "data": {
      "text/plain": [
       "array([1, 2, 3, 4, 5, 6, 7])"
      ]
     },
     "execution_count": 232,
     "metadata": {},
     "output_type": "execute_result"
    }
   ],
   "source": [
    "A[Mask]"
   ]
  },
  {
   "cell_type": "code",
   "execution_count": 233,
   "id": "9c5034c9-fe59-49d3-81c9-44bf6072495c",
   "metadata": {},
   "outputs": [
    {
     "data": {
      "text/plain": [
       "array([1, 2, 3, 4, 5, 6, 7])"
      ]
     },
     "execution_count": 233,
     "metadata": {},
     "output_type": "execute_result"
    }
   ],
   "source": [
    "A[A < 8]"
   ]
  },
  {
   "cell_type": "code",
   "execution_count": 234,
   "id": "bb35497f-186f-4c46-ac2e-a022572daf1b",
   "metadata": {},
   "outputs": [],
   "source": [
    "A[A < 8] += 100"
   ]
  },
  {
   "cell_type": "code",
   "execution_count": 235,
   "id": "f1e5002d-5fc4-4abe-a87d-5765682ebd8e",
   "metadata": {},
   "outputs": [
    {
     "data": {
      "text/plain": [
       "array([[101, 102, 103, 104],\n",
       "       [105, 106, 107,   8],\n",
       "       [  9,  10,  11,  12]])"
      ]
     },
     "execution_count": 235,
     "metadata": {},
     "output_type": "execute_result"
    }
   ],
   "source": [
    "A"
   ]
  },
  {
   "cell_type": "code",
   "execution_count": 236,
   "id": "bbf31b47-b4c5-47f9-9950-b284d75673ca",
   "metadata": {},
   "outputs": [],
   "source": [
    "# operations on arrays"
   ]
  },
  {
   "cell_type": "code",
   "execution_count": 237,
   "id": "abb2be38-4f45-4173-8090-5b159846aa1c",
   "metadata": {},
   "outputs": [],
   "source": [
    "A = np.array([[1,2,3,4], [5,6,7,8], [9,10,11,12]])"
   ]
  },
  {
   "cell_type": "code",
   "execution_count": 238,
   "id": "d08c0043-f616-4a4b-bad4-fb369569e3f0",
   "metadata": {},
   "outputs": [
    {
     "data": {
      "text/plain": [
       "78"
      ]
     },
     "execution_count": 238,
     "metadata": {},
     "output_type": "execute_result"
    }
   ],
   "source": [
    "A.sum()"
   ]
  },
  {
   "cell_type": "code",
   "execution_count": 239,
   "id": "897a88bb-7a75-45ed-ac36-0fb25351028b",
   "metadata": {},
   "outputs": [
    {
     "data": {
      "text/plain": [
       "array([15, 18, 21, 24])"
      ]
     },
     "execution_count": 239,
     "metadata": {},
     "output_type": "execute_result"
    }
   ],
   "source": [
    "A.sum(axis=0)"
   ]
  },
  {
   "cell_type": "code",
   "execution_count": 240,
   "id": "a3e862ef-064a-4df5-826d-a1a3d306ffc4",
   "metadata": {},
   "outputs": [
    {
     "data": {
      "text/plain": [
       "array([10, 26, 42])"
      ]
     },
     "execution_count": 240,
     "metadata": {},
     "output_type": "execute_result"
    }
   ],
   "source": [
    "A.sum(axis=1)"
   ]
  },
  {
   "cell_type": "code",
   "execution_count": 241,
   "id": "7817b5b0-632e-458a-82e3-006d2fd636ad",
   "metadata": {},
   "outputs": [
    {
     "data": {
      "text/plain": [
       "array([1, 2, 3, 4])"
      ]
     },
     "execution_count": 241,
     "metadata": {},
     "output_type": "execute_result"
    }
   ],
   "source": [
    "A.min(axis = 0)"
   ]
  },
  {
   "cell_type": "code",
   "execution_count": 243,
   "id": "da244a5b-1ad8-4312-b43e-f3f73a07ad1a",
   "metadata": {},
   "outputs": [
    {
     "data": {
      "text/plain": [
       "array([[1],\n",
       "       [5],\n",
       "       [9]])"
      ]
     },
     "execution_count": 243,
     "metadata": {},
     "output_type": "execute_result"
    }
   ],
   "source": [
    "A.min(axis=1, keepdims=True)"
   ]
  },
  {
   "cell_type": "code",
   "execution_count": 244,
   "id": "5ce91610-3339-4de6-ad6b-7084fa3aa484",
   "metadata": {},
   "outputs": [
    {
     "data": {
      "text/plain": [
       "array([ 45, 120, 231, 384])"
      ]
     },
     "execution_count": 244,
     "metadata": {},
     "output_type": "execute_result"
    }
   ],
   "source": [
    "A.prod(axis=0)"
   ]
  },
  {
   "cell_type": "code",
   "execution_count": 245,
   "id": "b793e228-0414-4605-a465-c57624aca29c",
   "metadata": {},
   "outputs": [
    {
     "data": {
      "text/plain": [
       "array([[ 1,  2,  3,  4],\n",
       "       [ 5,  6,  7,  8],\n",
       "       [ 9, 10, 11, 12]])"
      ]
     },
     "execution_count": 245,
     "metadata": {},
     "output_type": "execute_result"
    }
   ],
   "source": [
    "A"
   ]
  },
  {
   "cell_type": "code",
   "execution_count": 246,
   "id": "6bf17dca-75dd-45b1-b166-0881becfe3e9",
   "metadata": {},
   "outputs": [],
   "source": [
    "X = np.array([[1,2],[3,4]])\n",
    "Y = np.array([[10,20,30],[40,50,60]])\n",
    "Z = np.array([[7,7],[8,8],[9,9]])"
   ]
  },
  {
   "cell_type": "code",
   "execution_count": 252,
   "id": "0d9010f1-3f51-4e39-b87e-9c37934ff27c",
   "metadata": {},
   "outputs": [
    {
     "data": {
      "text/plain": [
       "array([[7, 7],\n",
       "       [8, 8],\n",
       "       [9, 9]])"
      ]
     },
     "execution_count": 252,
     "metadata": {},
     "output_type": "execute_result"
    }
   ],
   "source": [
    "Z"
   ]
  },
  {
   "cell_type": "code",
   "execution_count": 251,
   "id": "efb90b2c-a374-4837-bb1d-977c27782e8d",
   "metadata": {},
   "outputs": [
    {
     "data": {
      "text/plain": [
       "array([[1, 2],\n",
       "       [3, 4]])"
      ]
     },
     "execution_count": 251,
     "metadata": {},
     "output_type": "execute_result"
    }
   ],
   "source": [
    "X"
   ]
  },
  {
   "cell_type": "code",
   "execution_count": 282,
   "id": "cb5c7112-4a98-4bfc-8948-ed5921de9ed7",
   "metadata": {},
   "outputs": [
    {
     "data": {
      "text/plain": [
       "array([[10, 20, 30],\n",
       "       [40, 50, 60]])"
      ]
     },
     "execution_count": 282,
     "metadata": {},
     "output_type": "execute_result"
    }
   ],
   "source": [
    "Y"
   ]
  },
  {
   "cell_type": "code",
   "execution_count": 287,
   "id": "14f85da9-41be-4acc-92e7-6af2886d47ba",
   "metadata": {},
   "outputs": [
    {
     "data": {
      "text/plain": [
       "array([[1, 2],\n",
       "       [3, 4]])"
      ]
     },
     "execution_count": 287,
     "metadata": {},
     "output_type": "execute_result"
    }
   ],
   "source": [
    "X"
   ]
  },
  {
   "cell_type": "code",
   "execution_count": 289,
   "id": "61a56d3c-2c7a-4a1b-8207-17f604f5e8b7",
   "metadata": {},
   "outputs": [
    {
     "data": {
      "text/plain": [
       "array([[10, 20, 30,  1,  2],\n",
       "       [40, 50, 60,  3,  4]])"
      ]
     },
     "execution_count": 289,
     "metadata": {},
     "output_type": "execute_result"
    }
   ],
   "source": [
    "np.hstack((Y,X))"
   ]
  },
  {
   "cell_type": "code",
   "execution_count": 268,
   "id": "81aa6760-b372-4a28-88c0-cfcb8bf73966",
   "metadata": {},
   "outputs": [
    {
     "data": {
      "text/plain": [
       "array([[1, 2],\n",
       "       [3, 4],\n",
       "       [7, 7],\n",
       "       [8, 8],\n",
       "       [9, 9]])"
      ]
     },
     "execution_count": 268,
     "metadata": {},
     "output_type": "execute_result"
    }
   ],
   "source": [
    "np.concatenate((X,Z), axis=0)"
   ]
  },
  {
   "cell_type": "code",
   "execution_count": 292,
   "id": "bdd169b9-e183-4cc7-8e24-049f41c8df87",
   "metadata": {},
   "outputs": [
    {
     "data": {
      "text/plain": [
       "array([[10, 20, 30],\n",
       "       [40, 50, 60]])"
      ]
     },
     "execution_count": 292,
     "metadata": {},
     "output_type": "execute_result"
    }
   ],
   "source": [
    "Y"
   ]
  },
  {
   "cell_type": "code",
   "execution_count": 265,
   "id": "7b6f6d9d-7780-4f83-be93-13677449a1a9",
   "metadata": {},
   "outputs": [
    {
     "data": {
      "text/plain": [
       "array([[1, 2],\n",
       "       [3, 4]])"
      ]
     },
     "execution_count": 265,
     "metadata": {},
     "output_type": "execute_result"
    }
   ],
   "source": [
    "X"
   ]
  },
  {
   "cell_type": "code",
   "execution_count": 275,
   "id": "3b15b73a-f895-45cc-8775-7d04cb50f89a",
   "metadata": {},
   "outputs": [
    {
     "data": {
      "text/plain": [
       "array([[7, 7],\n",
       "       [8, 8],\n",
       "       [9, 9]])"
      ]
     },
     "execution_count": 275,
     "metadata": {},
     "output_type": "execute_result"
    }
   ],
   "source": [
    "Z"
   ]
  },
  {
   "cell_type": "code",
   "execution_count": 278,
   "id": "7609c50f-fb41-4c2d-af02-4583e7bb0430",
   "metadata": {},
   "outputs": [
    {
     "data": {
      "text/plain": [
       "array([[1, 2],\n",
       "       [3, 4],\n",
       "       [7, 7],\n",
       "       [8, 8],\n",
       "       [9, 9]])"
      ]
     },
     "execution_count": 278,
     "metadata": {},
     "output_type": "execute_result"
    }
   ],
   "source": [
    "np.vstack((X,Z))"
   ]
  },
  {
   "cell_type": "code",
   "execution_count": 290,
   "id": "709269ad-661e-4b06-a5b3-306cdf8463dc",
   "metadata": {},
   "outputs": [
    {
     "data": {
      "text/plain": [
       "array([[1, 2],\n",
       "       [3, 4],\n",
       "       [7, 7],\n",
       "       [8, 8],\n",
       "       [9, 9]])"
      ]
     },
     "execution_count": 290,
     "metadata": {},
     "output_type": "execute_result"
    }
   ],
   "source": [
    "np.r_[X,Z]"
   ]
  },
  {
   "cell_type": "code",
   "execution_count": 291,
   "id": "552268e8-0ead-4875-a758-48df743d7c38",
   "metadata": {},
   "outputs": [
    {
     "data": {
      "text/plain": [
       "array([[ 1,  2, 10, 20, 30],\n",
       "       [ 3,  4, 40, 50, 60]])"
      ]
     },
     "execution_count": 291,
     "metadata": {},
     "output_type": "execute_result"
    }
   ],
   "source": [
    "np.c_[X,Y]"
   ]
  },
  {
   "cell_type": "code",
   "execution_count": 295,
   "id": "7c3fcb1d-f8dd-4a18-9b20-b52879f9fa97",
   "metadata": {},
   "outputs": [
    {
     "data": {
      "text/plain": [
       "(2, 3)"
      ]
     },
     "execution_count": 295,
     "metadata": {},
     "output_type": "execute_result"
    }
   ],
   "source": [
    "Y.shape"
   ]
  },
  {
   "cell_type": "code",
   "execution_count": 296,
   "id": "add1bb16-bddd-471b-8da0-dd57a6442bcd",
   "metadata": {},
   "outputs": [
    {
     "data": {
      "text/plain": [
       "(8, 9)"
      ]
     },
     "execution_count": 296,
     "metadata": {},
     "output_type": "execute_result"
    }
   ],
   "source": [
    "np.tile(Y,(4,3)).shape"
   ]
  },
  {
   "cell_type": "code",
   "execution_count": 297,
   "id": "0b93d911-76bd-4c61-a5e7-074736259b6b",
   "metadata": {},
   "outputs": [
    {
     "data": {
      "text/plain": [
       "array([[10, 20, 30, 10, 20, 30, 10, 20, 30],\n",
       "       [40, 50, 60, 40, 50, 60, 40, 50, 60],\n",
       "       [10, 20, 30, 10, 20, 30, 10, 20, 30],\n",
       "       [40, 50, 60, 40, 50, 60, 40, 50, 60],\n",
       "       [10, 20, 30, 10, 20, 30, 10, 20, 30],\n",
       "       [40, 50, 60, 40, 50, 60, 40, 50, 60],\n",
       "       [10, 20, 30, 10, 20, 30, 10, 20, 30],\n",
       "       [40, 50, 60, 40, 50, 60, 40, 50, 60]])"
      ]
     },
     "execution_count": 297,
     "metadata": {},
     "output_type": "execute_result"
    }
   ],
   "source": [
    "np.tile(Y,(4,3))"
   ]
  },
  {
   "cell_type": "code",
   "execution_count": 298,
   "id": "516fd261-f9a3-4e31-8178-fb8efde33d01",
   "metadata": {},
   "outputs": [],
   "source": [
    "A = np.array([[1,2,3,4], [5,6,7,8], [9,10,11,12]])"
   ]
  },
  {
   "cell_type": "code",
   "execution_count": 299,
   "id": "89e0751d-4e07-4bc6-b8e0-65e4d6bd7a9b",
   "metadata": {},
   "outputs": [
    {
     "data": {
      "text/plain": [
       "array([[ 1,  2,  3],\n",
       "       [ 4,  5,  6],\n",
       "       [ 7,  8,  9],\n",
       "       [10, 11, 12]])"
      ]
     },
     "execution_count": 299,
     "metadata": {},
     "output_type": "execute_result"
    }
   ],
   "source": [
    "A.reshape((4, 3))"
   ]
  },
  {
   "cell_type": "code",
   "execution_count": 300,
   "id": "3905e0c9-e9ee-4e86-ac31-1ff13d6bf720",
   "metadata": {},
   "outputs": [
    {
     "data": {
      "text/plain": [
       "array([[ 1,  2,  3,  4,  5,  6],\n",
       "       [ 7,  8,  9, 10, 11, 12]])"
      ]
     },
     "execution_count": 300,
     "metadata": {},
     "output_type": "execute_result"
    }
   ],
   "source": [
    "A.reshape((2, 6))"
   ]
  },
  {
   "cell_type": "code",
   "execution_count": 301,
   "id": "789356ae-6fca-4c83-b1c4-2e9791739571",
   "metadata": {},
   "outputs": [
    {
     "ename": "ValueError",
     "evalue": "cannot reshape array of size 12 into shape (2,7)",
     "output_type": "error",
     "traceback": [
      "\u001b[0;31m---------------------------------------------------------------------------\u001b[0m",
      "\u001b[0;31mValueError\u001b[0m                                Traceback (most recent call last)",
      "Cell \u001b[0;32mIn[301], line 1\u001b[0m\n\u001b[0;32m----> 1\u001b[0m \u001b[43mA\u001b[49m\u001b[38;5;241;43m.\u001b[39;49m\u001b[43mreshape\u001b[49m\u001b[43m(\u001b[49m\u001b[43m(\u001b[49m\u001b[38;5;241;43m2\u001b[39;49m\u001b[43m,\u001b[49m\u001b[43m \u001b[49m\u001b[38;5;241;43m7\u001b[39;49m\u001b[43m)\u001b[49m\u001b[43m)\u001b[49m\n",
      "\u001b[0;31mValueError\u001b[0m: cannot reshape array of size 12 into shape (2,7)"
     ]
    }
   ],
   "source": [
    "A.reshape((2, 7))"
   ]
  },
  {
   "cell_type": "code",
   "execution_count": 302,
   "id": "34f91a17-2b86-47b8-b7cc-a060f7e8eac5",
   "metadata": {},
   "outputs": [
    {
     "data": {
      "text/plain": [
       "12"
      ]
     },
     "execution_count": 302,
     "metadata": {},
     "output_type": "execute_result"
    }
   ],
   "source": [
    "A.size"
   ]
  },
  {
   "cell_type": "code",
   "execution_count": 303,
   "id": "94200b3a-9cb6-4117-9e21-977b09bf4434",
   "metadata": {},
   "outputs": [
    {
     "data": {
      "text/plain": [
       "array([[ 1,  2,  3,  4,  5,  6,  7,  8,  9, 10, 11, 12]])"
      ]
     },
     "execution_count": 303,
     "metadata": {},
     "output_type": "execute_result"
    }
   ],
   "source": [
    "A.reshape((1,12))"
   ]
  },
  {
   "cell_type": "code",
   "execution_count": 304,
   "id": "967763cd-477b-4c7d-ba8d-0c510752c9b3",
   "metadata": {},
   "outputs": [
    {
     "data": {
      "text/plain": [
       "array([[ 1],\n",
       "       [ 2],\n",
       "       [ 3],\n",
       "       [ 4],\n",
       "       [ 5],\n",
       "       [ 6],\n",
       "       [ 7],\n",
       "       [ 8],\n",
       "       [ 9],\n",
       "       [10],\n",
       "       [11],\n",
       "       [12]])"
      ]
     },
     "execution_count": 304,
     "metadata": {},
     "output_type": "execute_result"
    }
   ],
   "source": [
    "A.reshape((12,1))"
   ]
  },
  {
   "cell_type": "code",
   "execution_count": 308,
   "id": "0e2b1353-04d1-4421-9e73-b1bb912359bd",
   "metadata": {},
   "outputs": [
    {
     "data": {
      "text/plain": [
       "array([ 1,  2,  3,  4,  5,  6,  7,  8,  9, 10, 11, 12])"
      ]
     },
     "execution_count": 308,
     "metadata": {},
     "output_type": "execute_result"
    }
   ],
   "source": [
    "A.reshape((12,))"
   ]
  },
  {
   "cell_type": "code",
   "execution_count": 311,
   "id": "042f9247-2f7d-46fd-ace2-68c1789c7161",
   "metadata": {},
   "outputs": [],
   "source": [
    "b = A.ravel()"
   ]
  },
  {
   "cell_type": "code",
   "execution_count": 312,
   "id": "dd64686e-3e61-4896-8132-b2f034c84a23",
   "metadata": {},
   "outputs": [
    {
     "data": {
      "text/plain": [
       "(12,)"
      ]
     },
     "execution_count": 312,
     "metadata": {},
     "output_type": "execute_result"
    }
   ],
   "source": [
    "b.shape"
   ]
  },
  {
   "cell_type": "code",
   "execution_count": 313,
   "id": "f6ad7c00-e302-4787-bf11-1b8756f2f70f",
   "metadata": {},
   "outputs": [
    {
     "data": {
      "text/plain": [
       "array([[ 1,  2,  3,  4,  5,  6],\n",
       "       [ 7,  8,  9, 10, 11, 12]])"
      ]
     },
     "execution_count": 313,
     "metadata": {},
     "output_type": "execute_result"
    }
   ],
   "source": [
    "b.reshape((2, 6))"
   ]
  },
  {
   "cell_type": "code",
   "execution_count": 314,
   "id": "7df24caa-702c-4f23-a580-0899546f331f",
   "metadata": {},
   "outputs": [
    {
     "data": {
      "text/plain": [
       "array([ 1,  2,  3,  4,  5,  6,  7,  8,  9, 10, 11, 12])"
      ]
     },
     "execution_count": 314,
     "metadata": {},
     "output_type": "execute_result"
    }
   ],
   "source": [
    "b"
   ]
  },
  {
   "cell_type": "code",
   "execution_count": 315,
   "id": "111099fd-866a-455a-a483-f42a6ff84d47",
   "metadata": {},
   "outputs": [],
   "source": [
    "b.shape = (2, 6)"
   ]
  },
  {
   "cell_type": "code",
   "execution_count": 316,
   "id": "b6f9f49c-5d8f-4eee-95e4-9ca10cbdd392",
   "metadata": {},
   "outputs": [
    {
     "data": {
      "text/plain": [
       "array([[ 1,  2,  3,  4,  5,  6],\n",
       "       [ 7,  8,  9, 10, 11, 12]])"
      ]
     },
     "execution_count": 316,
     "metadata": {},
     "output_type": "execute_result"
    }
   ],
   "source": [
    "b"
   ]
  },
  {
   "cell_type": "code",
   "execution_count": 320,
   "id": "512d5f64-634d-4909-b011-b1772b4eaa80",
   "metadata": {},
   "outputs": [
    {
     "data": {
      "text/plain": [
       "array([ 1,  2,  3,  4,  5,  6,  7,  8,  9, 10, 11, 12])"
      ]
     },
     "execution_count": 320,
     "metadata": {},
     "output_type": "execute_result"
    }
   ],
   "source": [
    "f = A.flatten()\n",
    "t = A.ravel()\n",
    "f\n",
    "# t"
   ]
  },
  {
   "cell_type": "code",
   "execution_count": 321,
   "id": "1eccb5e9-5ad5-4252-b115-6e1ced216cd6",
   "metadata": {},
   "outputs": [],
   "source": [
    "f[0] = 400"
   ]
  },
  {
   "cell_type": "code",
   "execution_count": 322,
   "id": "ed80f385-9bb3-4d89-98a4-30ba160041e0",
   "metadata": {},
   "outputs": [
    {
     "data": {
      "text/plain": [
       "array([[ 1,  2,  3,  4],\n",
       "       [ 5,  6,  7,  8],\n",
       "       [ 9, 10, 11, 12]])"
      ]
     },
     "execution_count": 322,
     "metadata": {},
     "output_type": "execute_result"
    }
   ],
   "source": [
    "A"
   ]
  },
  {
   "cell_type": "code",
   "execution_count": 323,
   "id": "3c6cb73f-bb30-4dc0-a8ea-1cb059922050",
   "metadata": {},
   "outputs": [],
   "source": [
    "t[0] = 400"
   ]
  },
  {
   "cell_type": "code",
   "execution_count": 341,
   "id": "fb9f340a-4349-4874-8863-9371ab675a45",
   "metadata": {},
   "outputs": [
    {
     "data": {
      "text/plain": [
       "array([[400,   2,   3,   4],\n",
       "       [  5,   6,   7,   8],\n",
       "       [  9,  10,  11,  12]])"
      ]
     },
     "execution_count": 341,
     "metadata": {},
     "output_type": "execute_result"
    }
   ],
   "source": [
    "A\n"
   ]
  },
  {
   "cell_type": "code",
   "execution_count": 325,
   "id": "2d7edbef-392c-4f6f-9dc4-638a36df4f00",
   "metadata": {},
   "outputs": [],
   "source": [
    "# Numpy arrays VS. numpy matrices"
   ]
  },
  {
   "cell_type": "code",
   "execution_count": 342,
   "id": "36e04be6-b83a-4fe2-b508-0cc0ca8819c9",
   "metadata": {},
   "outputs": [],
   "source": [
    "A = np.array([[1,2,3], [1,1,1], [-1,-2,-1]])\n",
    "M = np.matrix([[1,2,3], [1,1,1], [-1,-2,-1]])\n",
    "M1 = np.array([[1,2,3], [1,1,1], [-1,-2,-1]])"
   ]
  },
  {
   "cell_type": "code",
   "execution_count": 327,
   "id": "f7d71fe2-c3fb-4f2d-8ade-343942f06ec2",
   "metadata": {},
   "outputs": [
    {
     "data": {
      "text/plain": [
       "matrix([[ 1,  2,  3],\n",
       "        [ 1,  1,  1],\n",
       "        [-1, -2, -1]])"
      ]
     },
     "execution_count": 327,
     "metadata": {},
     "output_type": "execute_result"
    }
   ],
   "source": [
    "M"
   ]
  },
  {
   "cell_type": "code",
   "execution_count": 328,
   "id": "2f2a5791-704b-4779-a6f3-08fac69a5b2b",
   "metadata": {},
   "outputs": [
    {
     "data": {
      "text/plain": [
       "matrix([[ 0, -2,  2],\n",
       "        [ 1,  1,  3],\n",
       "        [-2, -2, -4]])"
      ]
     },
     "execution_count": 328,
     "metadata": {},
     "output_type": "execute_result"
    }
   ],
   "source": [
    "M * M"
   ]
  },
  {
   "cell_type": "code",
   "execution_count": 335,
   "id": "e22ddbcb-94c7-48a4-b899-1aa4770d3a6c",
   "metadata": {},
   "outputs": [
    {
     "data": {
      "text/plain": [
       "array([[1, 4, 9],\n",
       "       [1, 1, 1],\n",
       "       [1, 4, 1]])"
      ]
     },
     "execution_count": 335,
     "metadata": {},
     "output_type": "execute_result"
    }
   ],
   "source": [
    "np.multiply(M1,M1)\n",
    "# np.dot(M1, M1)"
   ]
  },
  {
   "cell_type": "code",
   "execution_count": 343,
   "id": "bea76ae6-2a3e-42fb-aa4b-c20adbd3af34",
   "metadata": {},
   "outputs": [
    {
     "data": {
      "text/plain": [
       "matrix([[ 1,  2,  3],\n",
       "        [ 1,  1,  1],\n",
       "        [-1, -2, -1]])"
      ]
     },
     "execution_count": 343,
     "metadata": {},
     "output_type": "execute_result"
    }
   ],
   "source": [
    "M=np.mat(A)\n",
    "M"
   ]
  },
  {
   "cell_type": "code",
   "execution_count": 344,
   "id": "d5081756-6b55-4af7-a2fb-11f27418b0ae",
   "metadata": {},
   "outputs": [
    {
     "data": {
      "text/plain": [
       "matrix([[ 1,  1, -1],\n",
       "        [ 2,  1, -2],\n",
       "        [ 3,  1, -1]])"
      ]
     },
     "execution_count": 344,
     "metadata": {},
     "output_type": "execute_result"
    }
   ],
   "source": [
    "M.T"
   ]
  },
  {
   "cell_type": "code",
   "execution_count": 345,
   "id": "a6d7a3d5-8bb4-4c1d-8963-4a6bed09e0fb",
   "metadata": {},
   "outputs": [
    {
     "data": {
      "text/plain": [
       "matrix([[-0.5,  2. ,  0.5],\n",
       "        [-0. , -1. , -1. ],\n",
       "        [ 0.5,  0. ,  0.5]])"
      ]
     },
     "execution_count": 345,
     "metadata": {},
     "output_type": "execute_result"
    }
   ],
   "source": [
    "M.I"
   ]
  },
  {
   "cell_type": "code",
   "execution_count": 346,
   "id": "be13061a-133d-45db-995d-c0c1eb8c01b8",
   "metadata": {},
   "outputs": [
    {
     "data": {
      "text/plain": [
       "matrix([[1., 0., 0.],\n",
       "        [0., 1., 0.],\n",
       "        [0., 0., 1.]])"
      ]
     },
     "execution_count": 346,
     "metadata": {},
     "output_type": "execute_result"
    }
   ],
   "source": [
    "M.I * M"
   ]
  },
  {
   "cell_type": "code",
   "execution_count": 347,
   "id": "29259288-a496-4bfa-9590-bd4871e0a211",
   "metadata": {},
   "outputs": [
    {
     "data": {
      "text/plain": [
       "matrix([[1., 0., 0.],\n",
       "        [0., 1., 0.],\n",
       "        [0., 0., 1.]])"
      ]
     },
     "execution_count": 347,
     "metadata": {},
     "output_type": "execute_result"
    }
   ],
   "source": [
    "M * M.I"
   ]
  },
  {
   "cell_type": "code",
   "execution_count": 348,
   "id": "56247384-4833-4856-9eeb-cb444f2e1aab",
   "metadata": {},
   "outputs": [
    {
     "data": {
      "text/plain": [
       "array([[ 1,  2,  3],\n",
       "       [ 1,  1,  1],\n",
       "       [-1, -2, -1]])"
      ]
     },
     "execution_count": 348,
     "metadata": {},
     "output_type": "execute_result"
    }
   ],
   "source": [
    "M.A"
   ]
  },
  {
   "cell_type": "code",
   "execution_count": 349,
   "id": "aa68dfcd-9c76-45eb-a5ef-d3aa968b0ccc",
   "metadata": {},
   "outputs": [
    {
     "data": {
      "text/plain": [
       "matrix([[ 1,  2,  3],\n",
       "        [ 1,  1,  1],\n",
       "        [-1, -2, -1]])"
      ]
     },
     "execution_count": 349,
     "metadata": {},
     "output_type": "execute_result"
    }
   ],
   "source": [
    "M"
   ]
  },
  {
   "cell_type": "code",
   "execution_count": 351,
   "id": "b60881d4-eed6-4f17-bd3e-bc8093d81457",
   "metadata": {},
   "outputs": [
    {
     "data": {
      "text/plain": [
       "matrix([[1, 2],\n",
       "        [3, 4],\n",
       "        [5, 6]])"
      ]
     },
     "execution_count": 351,
     "metadata": {},
     "output_type": "execute_result"
    }
   ],
   "source": [
    "C = np.matrix(\"1 2; 3 4; 5 6\")\n",
    "C"
   ]
  },
  {
   "cell_type": "code",
   "execution_count": 352,
   "id": "bc628bf8-f6c1-42a5-bc47-11591f6ccf55",
   "metadata": {},
   "outputs": [
    {
     "data": {
      "text/plain": [
       "matrix([[ 22,  28],\n",
       "        [  9,  12],\n",
       "        [-12, -16]])"
      ]
     },
     "execution_count": 352,
     "metadata": {},
     "output_type": "execute_result"
    }
   ],
   "source": [
    "M * C"
   ]
  },
  {
   "cell_type": "code",
   "execution_count": 353,
   "id": "491ba328-c2db-45cf-9471-8aaed854ea6d",
   "metadata": {},
   "outputs": [],
   "source": [
    "# N-dimensional Array"
   ]
  },
  {
   "cell_type": "code",
   "execution_count": 354,
   "id": "717b9c5a-ebe6-4116-9429-f1ff1491c0d7",
   "metadata": {},
   "outputs": [],
   "source": [
    "A = np.zeros((2,4,3))"
   ]
  },
  {
   "cell_type": "code",
   "execution_count": 358,
   "id": "200ceea6-27c7-4323-9426-d92837019096",
   "metadata": {},
   "outputs": [
    {
     "data": {
      "text/plain": [
       "array([[[0., 0., 0.],\n",
       "        [0., 0., 0.],\n",
       "        [0., 0., 0.],\n",
       "        [0., 0., 0.]],\n",
       "\n",
       "       [[0., 0., 0.],\n",
       "        [0., 0., 0.],\n",
       "        [0., 0., 0.],\n",
       "        [0., 0., 0.]]])"
      ]
     },
     "execution_count": 358,
     "metadata": {},
     "output_type": "execute_result"
    }
   ],
   "source": [
    "A"
   ]
  },
  {
   "cell_type": "code",
   "execution_count": 359,
   "id": "193cc02c-469b-4b91-8826-e4c8091316aa",
   "metadata": {},
   "outputs": [
    {
     "data": {
      "text/plain": [
       "(2, 4)"
      ]
     },
     "execution_count": 359,
     "metadata": {},
     "output_type": "execute_result"
    }
   ],
   "source": [
    "A[:,:,0].shape"
   ]
  },
  {
   "cell_type": "code",
   "execution_count": 360,
   "id": "110418dc-6d45-4ac9-89e8-01b6173cbc1b",
   "metadata": {},
   "outputs": [
    {
     "data": {
      "text/plain": [
       "array([[[1., 0., 0.],\n",
       "        [2., 0., 0.],\n",
       "        [3., 0., 0.],\n",
       "        [4., 0., 0.]],\n",
       "\n",
       "       [[5., 0., 0.],\n",
       "        [6., 0., 0.],\n",
       "        [7., 0., 0.],\n",
       "        [8., 0., 0.]]])"
      ]
     },
     "execution_count": 360,
     "metadata": {},
     "output_type": "execute_result"
    }
   ],
   "source": [
    "A[:,:,0] = [[1,2,3,4],[5,6,7,8]]\n",
    "A"
   ]
  },
  {
   "cell_type": "code",
   "execution_count": 362,
   "id": "b477f8aa-a17d-4a06-a82b-ca0ec64c5938",
   "metadata": {},
   "outputs": [
    {
     "data": {
      "text/plain": [
       "(4, 3)"
      ]
     },
     "execution_count": 362,
     "metadata": {},
     "output_type": "execute_result"
    }
   ],
   "source": [
    "A[0,:,:].shape\n"
   ]
  },
  {
   "cell_type": "code",
   "execution_count": 363,
   "id": "5a271962-de20-435f-887d-29ae5341f18c",
   "metadata": {},
   "outputs": [
    {
     "data": {
      "text/plain": [
       "array([[2., 0., 0.],\n",
       "       [6., 0., 0.]])"
      ]
     },
     "execution_count": 363,
     "metadata": {},
     "output_type": "execute_result"
    }
   ],
   "source": [
    "A[:,1,:]"
   ]
  },
  {
   "cell_type": "code",
   "execution_count": 364,
   "id": "da4dc0da-4d88-4125-be0d-9bfd78890ce6",
   "metadata": {},
   "outputs": [
    {
     "data": {
      "text/plain": [
       "array([[2., 0., 0.],\n",
       "       [6., 0., 0.]])"
      ]
     },
     "execution_count": 364,
     "metadata": {},
     "output_type": "execute_result"
    }
   ],
   "source": [
    "A[:,1]"
   ]
  },
  {
   "cell_type": "code",
   "execution_count": 365,
   "id": "c11635c0-2121-445c-841a-47b52246d8b0",
   "metadata": {},
   "outputs": [
    {
     "data": {
      "text/plain": [
       "array([[[2., 0., 0.]],\n",
       "\n",
       "       [[6., 0., 0.]]])"
      ]
     },
     "execution_count": 365,
     "metadata": {},
     "output_type": "execute_result"
    }
   ],
   "source": [
    "A[:,[1]]"
   ]
  },
  {
   "cell_type": "code",
   "execution_count": 366,
   "id": "441f7b32-82bd-4e30-8304-6c9c771dd59d",
   "metadata": {},
   "outputs": [
    {
     "data": {
      "text/plain": [
       "(2, 3)"
      ]
     },
     "execution_count": 366,
     "metadata": {},
     "output_type": "execute_result"
    }
   ],
   "source": [
    "A[:,1].shape"
   ]
  },
  {
   "cell_type": "code",
   "execution_count": 367,
   "id": "1c142706-e69c-4182-b454-37a07dfecbdf",
   "metadata": {},
   "outputs": [
    {
     "data": {
      "text/plain": [
       "array([[1., 2., 3., 4.],\n",
       "       [5., 6., 7., 8.]])"
      ]
     },
     "execution_count": 367,
     "metadata": {},
     "output_type": "execute_result"
    }
   ],
   "source": [
    "A[:,:,0]"
   ]
  },
  {
   "cell_type": "code",
   "execution_count": 370,
   "id": "836f67fd-6fd7-4ca7-a130-ec8ebcf80e46",
   "metadata": {},
   "outputs": [
    {
     "data": {
      "text/plain": [
       "array([[[1., 0., 0.],\n",
       "        [2., 0., 0.],\n",
       "        [3., 0., 0.],\n",
       "        [4., 0., 0.]],\n",
       "\n",
       "       [[5., 0., 0.],\n",
       "        [6., 0., 0.],\n",
       "        [7., 0., 0.],\n",
       "        [8., 0., 0.]]])"
      ]
     },
     "execution_count": 370,
     "metadata": {},
     "output_type": "execute_result"
    }
   ],
   "source": [
    "A"
   ]
  },
  {
   "cell_type": "code",
   "execution_count": 372,
   "id": "63a1a416-bee7-4499-b41e-ce1a918982d1",
   "metadata": {},
   "outputs": [
    {
     "data": {
      "text/plain": [
       "array([[3., 4.],\n",
       "       [7., 8.]])"
      ]
     },
     "execution_count": 372,
     "metadata": {},
     "output_type": "execute_result"
    }
   ],
   "source": [
    "A[:,2:,0]"
   ]
  },
  {
   "cell_type": "code",
   "execution_count": 373,
   "id": "26111ec3-ff4c-44c2-a515-caaebafcfbaf",
   "metadata": {},
   "outputs": [
    {
     "data": {
      "text/plain": [
       "array([1., 0., 0., 2., 0., 0., 3., 0., 0., 4., 0., 0., 5., 0., 0., 6., 0.,\n",
       "       0., 7., 0., 0., 8., 0., 0.])"
      ]
     },
     "execution_count": 373,
     "metadata": {},
     "output_type": "execute_result"
    }
   ],
   "source": [
    "A.ravel()"
   ]
  },
  {
   "cell_type": "code",
   "execution_count": 376,
   "id": "e3b6116c-d14b-4364-a2b1-921576cb46c7",
   "metadata": {},
   "outputs": [],
   "source": [
    "# Broadcasting"
   ]
  },
  {
   "cell_type": "code",
   "execution_count": 380,
   "id": "604f0158-d3f2-47ee-99e9-78e5d76bd802",
   "metadata": {},
   "outputs": [],
   "source": [
    "A = np.array([[1,2,3,4], [5,6,7,8], [9,10,11,12]])\n",
    "b = np.array([1, 0, 2,-2])"
   ]
  },
  {
   "cell_type": "code",
   "execution_count": 381,
   "id": "dcaf36ed-aa04-418a-9e5b-c5bd7e7fc7c4",
   "metadata": {},
   "outputs": [
    {
     "data": {
      "text/plain": [
       "array([[ 0,  2,  1,  6],\n",
       "       [ 4,  6,  5, 10],\n",
       "       [ 8, 10,  9, 14]])"
      ]
     },
     "execution_count": 381,
     "metadata": {},
     "output_type": "execute_result"
    }
   ],
   "source": [
    "A - b"
   ]
  },
  {
   "cell_type": "code",
   "execution_count": 382,
   "id": "eac9cbea-a951-4c89-93b1-01242b31736b",
   "metadata": {},
   "outputs": [],
   "source": [
    "c = np.array([1,2,3])"
   ]
  },
  {
   "cell_type": "code",
   "execution_count": 384,
   "id": "09d3186d-57cf-45e3-a0b7-736478eafbdf",
   "metadata": {},
   "outputs": [
    {
     "data": {
      "text/plain": [
       "array([[0, 1, 2, 3],\n",
       "       [3, 4, 5, 6],\n",
       "       [6, 7, 8, 9]])"
      ]
     },
     "execution_count": 384,
     "metadata": {},
     "output_type": "execute_result"
    }
   ],
   "source": [
    "A - c.reshape((3, 1))"
   ]
  },
  {
   "cell_type": "code",
   "execution_count": 1,
   "id": "e0d89540-bacc-47a0-a093-0924427805f7",
   "metadata": {},
   "outputs": [],
   "source": [
    "# ------------------------ warm-up before presentation ------------------------"
   ]
  },
  {
   "cell_type": "code",
   "execution_count": 2,
   "id": "d3f48677-fe0c-418e-bbc7-0479cbfd0da1",
   "metadata": {},
   "outputs": [],
   "source": [
    "import numpy as np"
   ]
  },
  {
   "cell_type": "code",
   "execution_count": 5,
   "id": "712427b4-890a-4561-9e01-4c851147c3d4",
   "metadata": {},
   "outputs": [
    {
     "data": {
      "text/plain": [
       "array([1, 1, 1, 1, 1, 1, 1, 1, 1, 1])"
      ]
     },
     "execution_count": 5,
     "metadata": {},
     "output_type": "execute_result"
    }
   ],
   "source": [
    "a = np.ones(10, dtype=np.int64)\n",
    "a"
   ]
  },
  {
   "cell_type": "code",
   "execution_count": 6,
   "id": "325ef298-c1ae-4a42-adc7-2ef5a6856957",
   "metadata": {},
   "outputs": [
    {
     "data": {
      "text/plain": [
       "8"
      ]
     },
     "execution_count": 6,
     "metadata": {},
     "output_type": "execute_result"
    }
   ],
   "source": [
    "a.itemsize"
   ]
  },
  {
   "cell_type": "code",
   "execution_count": 7,
   "id": "16ab3ee7-bf47-4ba3-81f3-4ede7228cf81",
   "metadata": {},
   "outputs": [
    {
     "data": {
      "text/plain": [
       "80"
      ]
     },
     "execution_count": 7,
     "metadata": {},
     "output_type": "execute_result"
    }
   ],
   "source": [
    "a.nbytes"
   ]
  },
  {
   "cell_type": "code",
   "execution_count": 8,
   "id": "49270a9f-9e55-4fb8-be9d-9f3d37452a7c",
   "metadata": {},
   "outputs": [
    {
     "data": {
      "text/plain": [
       "dtype('int64')"
      ]
     },
     "execution_count": 8,
     "metadata": {},
     "output_type": "execute_result"
    }
   ],
   "source": [
    "a.dtype"
   ]
  },
  {
   "cell_type": "code",
   "execution_count": 9,
   "id": "eba81bd6-1821-4a55-a262-f06620e54b8f",
   "metadata": {},
   "outputs": [
    {
     "data": {
      "text/plain": [
       "10"
      ]
     },
     "execution_count": 9,
     "metadata": {},
     "output_type": "execute_result"
    }
   ],
   "source": [
    "a.size"
   ]
  },
  {
   "cell_type": "code",
   "execution_count": 11,
   "id": "344c0a8d-0f2f-48da-ab6c-deecba83eebd",
   "metadata": {},
   "outputs": [
    {
     "name": "stdout",
     "output_type": "stream",
     "text": [
      "192\n"
     ]
    },
    {
     "data": {
      "text/plain": [
       "80"
      ]
     },
     "execution_count": 11,
     "metadata": {},
     "output_type": "execute_result"
    }
   ],
   "source": [
    "import sys\n",
    "print(sys.getsizeof(a))\n",
    "a.nbytes"
   ]
  },
  {
   "cell_type": "code",
   "execution_count": 6,
   "id": "57fd9944-6a9c-4a16-89c3-5800b18ead2e",
   "metadata": {},
   "outputs": [
    {
     "data": {
      "text/plain": [
       "array([0, 1, 2, 3, 4, 5, 6, 7, 8, 9])"
      ]
     },
     "execution_count": 6,
     "metadata": {},
     "output_type": "execute_result"
    }
   ],
   "source": [
    "a = np.arange(10)\n",
    "a"
   ]
  },
  {
   "cell_type": "code",
   "execution_count": 7,
   "id": "fc3d55b4-e911-4b35-9511-3426ee18182e",
   "metadata": {},
   "outputs": [
    {
     "data": {
      "text/plain": [
       "array([2, 3, 4, 5, 6])"
      ]
     },
     "execution_count": 7,
     "metadata": {},
     "output_type": "execute_result"
    }
   ],
   "source": [
    "a[2:-3]"
   ]
  },
  {
   "cell_type": "code",
   "execution_count": 9,
   "id": "638bd118-2b79-40fd-9a35-451d29eef5eb",
   "metadata": {},
   "outputs": [
    {
     "data": {
      "text/plain": [
       "array([8, 7, 6, 5, 4, 3])"
      ]
     },
     "execution_count": 9,
     "metadata": {},
     "output_type": "execute_result"
    }
   ],
   "source": [
    "a[8:2:-1]"
   ]
  },
  {
   "cell_type": "code",
   "execution_count": 10,
   "id": "ba790454-da7c-4100-a0be-27a361e4763d",
   "metadata": {},
   "outputs": [
    {
     "data": {
      "text/plain": [
       "array([1, 3, 4])"
      ]
     },
     "execution_count": 10,
     "metadata": {},
     "output_type": "execute_result"
    }
   ],
   "source": [
    "a[[1, 3, 4]] # important, picking multiple elements"
   ]
  },
  {
   "cell_type": "code",
   "execution_count": 11,
   "id": "b1651050-878b-436f-a694-d94fbbed7d5e",
   "metadata": {},
   "outputs": [],
   "source": [
    "A = np.array([[1,2,3,4], [5,6,7,8], [9,10,11,12]])"
   ]
  },
  {
   "cell_type": "code",
   "execution_count": 12,
   "id": "34dbf186-31b3-42d0-acbb-adb4c374bfcc",
   "metadata": {},
   "outputs": [
    {
     "data": {
      "text/plain": [
       "array([1, 2, 3, 4])"
      ]
     },
     "execution_count": 12,
     "metadata": {},
     "output_type": "execute_result"
    }
   ],
   "source": [
    "A[0,:]"
   ]
  },
  {
   "cell_type": "code",
   "execution_count": 16,
   "id": "f84320a7-76f8-4dbb-a65d-c8314abb3db9",
   "metadata": {},
   "outputs": [
    {
     "data": {
      "text/plain": [
       "array([[1, 2, 3, 4],\n",
       "       [5, 6, 7, 8]])"
      ]
     },
     "execution_count": 16,
     "metadata": {},
     "output_type": "execute_result"
    }
   ],
   "source": [
    "A[[0, 1]]"
   ]
  },
  {
   "cell_type": "code",
   "execution_count": 17,
   "id": "6dcd7663-4383-49fe-98a1-ebe47f746afd",
   "metadata": {},
   "outputs": [
    {
     "data": {
      "text/plain": [
       "array([ 3,  7, 11])"
      ]
     },
     "execution_count": 17,
     "metadata": {},
     "output_type": "execute_result"
    }
   ],
   "source": [
    "A[:,2]"
   ]
  },
  {
   "cell_type": "code",
   "execution_count": 18,
   "id": "4be5cff4-b9ca-4546-9121-1eaa812baeae",
   "metadata": {},
   "outputs": [
    {
     "data": {
      "text/plain": [
       "array([[ 1,  3],\n",
       "       [ 5,  7],\n",
       "       [ 9, 11]])"
      ]
     },
     "execution_count": 18,
     "metadata": {},
     "output_type": "execute_result"
    }
   ],
   "source": [
    "A[:,::2]"
   ]
  },
  {
   "cell_type": "code",
   "execution_count": 19,
   "id": "3054782c-4ec5-430e-982c-50daa5d893c2",
   "metadata": {},
   "outputs": [],
   "source": [
    "B = np.array([[1,1,1,1], [2,2,2,2], [3,3,3,3]])"
   ]
  },
  {
   "cell_type": "code",
   "execution_count": 20,
   "id": "bb77985b-a1c5-455b-9fb0-7683e731327b",
   "metadata": {},
   "outputs": [
    {
     "data": {
      "text/plain": [
       "array([[ 1,  2,  3,  4],\n",
       "       [ 5,  6,  7,  8],\n",
       "       [ 9, 10, 11, 12]])"
      ]
     },
     "execution_count": 20,
     "metadata": {},
     "output_type": "execute_result"
    }
   ],
   "source": [
    "A\n"
   ]
  },
  {
   "cell_type": "code",
   "execution_count": 21,
   "id": "fe3f2cf3-976c-4f86-b728-3889524bb95a",
   "metadata": {},
   "outputs": [
    {
     "data": {
      "text/plain": [
       "array([[1, 1, 1, 1],\n",
       "       [2, 2, 2, 2],\n",
       "       [3, 3, 3, 3]])"
      ]
     },
     "execution_count": 21,
     "metadata": {},
     "output_type": "execute_result"
    }
   ],
   "source": [
    "B"
   ]
  },
  {
   "cell_type": "code",
   "execution_count": 22,
   "id": "166bfe68-8893-4dd5-a6f8-6a573be11b1c",
   "metadata": {},
   "outputs": [
    {
     "data": {
      "text/plain": [
       "array([[ 1,  2,  3,  4],\n",
       "       [10, 12, 14, 16],\n",
       "       [27, 30, 33, 36]])"
      ]
     },
     "execution_count": 22,
     "metadata": {},
     "output_type": "execute_result"
    }
   ],
   "source": [
    "A * B"
   ]
  },
  {
   "cell_type": "code",
   "execution_count": 24,
   "id": "942b8bc1-47f6-405a-aa0b-6f88011bae29",
   "metadata": {},
   "outputs": [
    {
     "ename": "ValueError",
     "evalue": "shapes (3,4) and (3,4) not aligned: 4 (dim 1) != 3 (dim 0)",
     "output_type": "error",
     "traceback": [
      "\u001b[0;31m---------------------------------------------------------------------------\u001b[0m",
      "\u001b[0;31mValueError\u001b[0m                                Traceback (most recent call last)",
      "Cell \u001b[0;32mIn[24], line 2\u001b[0m\n\u001b[1;32m      1\u001b[0m \u001b[38;5;66;03m# np.dot(A, B)\u001b[39;00m\n\u001b[0;32m----> 2\u001b[0m \u001b[43mA\u001b[49m\u001b[38;5;241;43m.\u001b[39;49m\u001b[43mdot\u001b[49m\u001b[43m(\u001b[49m\u001b[43mB\u001b[49m\u001b[43m)\u001b[49m\n",
      "\u001b[0;31mValueError\u001b[0m: shapes (3,4) and (3,4) not aligned: 4 (dim 1) != 3 (dim 0)"
     ]
    }
   ],
   "source": [
    "# np.dot(A, B)\n",
    "A.dot(B)"
   ]
  },
  {
   "cell_type": "code",
   "execution_count": 25,
   "id": "8d9f4523-8002-4649-94b0-51817c01d9b0",
   "metadata": {},
   "outputs": [],
   "source": [
    "# Mask"
   ]
  },
  {
   "cell_type": "code",
   "execution_count": 26,
   "id": "3c5009f0-7b2e-42b8-a02f-92a17ed4c9c8",
   "metadata": {},
   "outputs": [],
   "source": [
    "A = np.array([[1, 2, 3],\n",
    "             [2, 3, 5]])\n",
    "Mask = [[True, False, True],\n",
    "       [False, False ,False]]\n",
    "\n",
    "B = np.zeros_like(A)"
   ]
  },
  {
   "cell_type": "code",
   "execution_count": 27,
   "id": "607a4a3b-1bb0-4db8-ae80-d0ea8ad624f5",
   "metadata": {},
   "outputs": [
    {
     "data": {
      "text/plain": [
       "array([[1, 0, 3],\n",
       "       [0, 0, 0]])"
      ]
     },
     "execution_count": 27,
     "metadata": {},
     "output_type": "execute_result"
    }
   ],
   "source": [
    "B[Mask] = A[Mask]\n",
    "B"
   ]
  },
  {
   "cell_type": "code",
   "execution_count": 29,
   "id": "26fde8bd-81f6-48cc-acad-7f8ce2f2980c",
   "metadata": {},
   "outputs": [
    {
     "data": {
      "text/plain": [
       "array([[False, False, False],\n",
       "       [False, False,  True]])"
      ]
     },
     "execution_count": 29,
     "metadata": {},
     "output_type": "execute_result"
    }
   ],
   "source": [
    "# create Mask\n",
    "A > 3"
   ]
  },
  {
   "cell_type": "code",
   "execution_count": 31,
   "id": "e23d2093-069e-42f0-963c-4c721bf14238",
   "metadata": {},
   "outputs": [
    {
     "data": {
      "text/plain": [
       "array([[    1,     2,     3],\n",
       "       [    2,     3, 50000]])"
      ]
     },
     "execution_count": 31,
     "metadata": {},
     "output_type": "execute_result"
    }
   ],
   "source": [
    "A[A > 3] *= 100\n",
    "A"
   ]
  },
  {
   "cell_type": "code",
   "execution_count": 32,
   "id": "2696f8a9-def3-48cc-b57a-3be9fe257812",
   "metadata": {},
   "outputs": [
    {
     "data": {
      "text/plain": [
       "array([[1, 0, 3],\n",
       "       [0, 0, 0]])"
      ]
     },
     "execution_count": 32,
     "metadata": {},
     "output_type": "execute_result"
    }
   ],
   "source": [
    "B"
   ]
  },
  {
   "cell_type": "code",
   "execution_count": 33,
   "id": "37da99b4-0275-4750-b360-af77fd99b998",
   "metadata": {},
   "outputs": [
    {
     "data": {
      "text/plain": [
       "array([[    1,     2,     3],\n",
       "       [    2,     3, 50000]])"
      ]
     },
     "execution_count": 33,
     "metadata": {},
     "output_type": "execute_result"
    }
   ],
   "source": [
    "A"
   ]
  },
  {
   "cell_type": "code",
   "execution_count": 34,
   "id": "e7978998-a9a5-47db-a206-8cca70d6a5a7",
   "metadata": {},
   "outputs": [
    {
     "data": {
      "text/plain": [
       "array([1.50000e+00, 2.50000e+00, 2.50015e+04])"
      ]
     },
     "execution_count": 34,
     "metadata": {},
     "output_type": "execute_result"
    }
   ],
   "source": [
    "A.mean(axis=0)"
   ]
  },
  {
   "cell_type": "code",
   "execution_count": 37,
   "id": "df187b02-3b23-491c-922b-546063547ac9",
   "metadata": {},
   "outputs": [
    {
     "data": {
      "text/plain": [
       "array([[    1,     2,     3],\n",
       "       [    2,     3, 50000]])"
      ]
     },
     "execution_count": 37,
     "metadata": {},
     "output_type": "execute_result"
    }
   ],
   "source": [
    "A.mean(axis=1).dtype = np.int64\n",
    "A"
   ]
  },
  {
   "cell_type": "code",
   "execution_count": 38,
   "id": "e7234d21-3af4-4725-9fbb-29f8d08e0a7f",
   "metadata": {},
   "outputs": [],
   "source": [
    "# concatenation"
   ]
  },
  {
   "cell_type": "code",
   "execution_count": 39,
   "id": "d0820624-abf0-474f-abb3-d41bf40bfdc4",
   "metadata": {},
   "outputs": [],
   "source": [
    "X = np.array([[1,2],[3,4]])\n",
    "Y = np.array([[10,20,30],[40,50,60]])\n",
    "Z = np.array([[7,7],[8,8],[9,9]])"
   ]
  },
  {
   "cell_type": "code",
   "execution_count": 44,
   "id": "f255ce5d-af9c-42ca-83ea-0f6b8dd67c3f",
   "metadata": {},
   "outputs": [
    {
     "data": {
      "text/plain": [
       "array([[1, 2],\n",
       "       [3, 4],\n",
       "       [7, 7],\n",
       "       [8, 8],\n",
       "       [9, 9]])"
      ]
     },
     "execution_count": 44,
     "metadata": {},
     "output_type": "execute_result"
    }
   ],
   "source": [
    "np.concatenate((X, Z), axis=0)"
   ]
  },
  {
   "cell_type": "code",
   "execution_count": 45,
   "id": "90614adb-772d-4bdd-9f55-52eafc620def",
   "metadata": {},
   "outputs": [
    {
     "data": {
      "text/plain": [
       "array([[1, 2],\n",
       "       [3, 4]])"
      ]
     },
     "execution_count": 45,
     "metadata": {},
     "output_type": "execute_result"
    }
   ],
   "source": [
    "X"
   ]
  },
  {
   "cell_type": "code",
   "execution_count": 46,
   "id": "23f8c64e-a53f-466c-b435-adec943f3f46",
   "metadata": {},
   "outputs": [
    {
     "data": {
      "text/plain": [
       "array([[10, 20, 30],\n",
       "       [40, 50, 60]])"
      ]
     },
     "execution_count": 46,
     "metadata": {},
     "output_type": "execute_result"
    }
   ],
   "source": [
    "Y"
   ]
  },
  {
   "cell_type": "code",
   "execution_count": 48,
   "id": "6a6b7296-6f11-4c1b-8082-5495a31c375c",
   "metadata": {},
   "outputs": [
    {
     "data": {
      "text/plain": [
       "array([[7, 7],\n",
       "       [8, 8],\n",
       "       [9, 9]])"
      ]
     },
     "execution_count": 48,
     "metadata": {},
     "output_type": "execute_result"
    }
   ],
   "source": [
    "Z"
   ]
  },
  {
   "cell_type": "code",
   "execution_count": 47,
   "id": "431b1dca-d23b-43ff-8b5b-8ad36a524773",
   "metadata": {},
   "outputs": [
    {
     "data": {
      "text/plain": [
       "array([[ 1,  2, 10, 20, 30],\n",
       "       [ 3,  4, 40, 50, 60]])"
      ]
     },
     "execution_count": 47,
     "metadata": {},
     "output_type": "execute_result"
    }
   ],
   "source": [
    "np.concatenate((X,Y), axis=1)"
   ]
  },
  {
   "cell_type": "code",
   "execution_count": 49,
   "id": "78d8dda7-226b-47e2-af98-4da827274e74",
   "metadata": {},
   "outputs": [
    {
     "data": {
      "text/plain": [
       "array([[1, 2],\n",
       "       [3, 4],\n",
       "       [7, 7],\n",
       "       [8, 8],\n",
       "       [9, 9]])"
      ]
     },
     "execution_count": 49,
     "metadata": {},
     "output_type": "execute_result"
    }
   ],
   "source": [
    "np.vstack((X,Z))"
   ]
  },
  {
   "cell_type": "code",
   "execution_count": null,
   "id": "0dd75970-e740-4f5d-8197-b11b6fda2ece",
   "metadata": {},
   "outputs": [],
   "source": []
  }
 ],
 "metadata": {
  "kernelspec": {
   "display_name": "Python 3 (ipykernel)",
   "language": "python",
   "name": "python3"
  },
  "language_info": {
   "codemirror_mode": {
    "name": "ipython",
    "version": 3
   },
   "file_extension": ".py",
   "mimetype": "text/x-python",
   "name": "python",
   "nbconvert_exporter": "python",
   "pygments_lexer": "ipython3",
   "version": "3.8.10"
  }
 },
 "nbformat": 4,
 "nbformat_minor": 5
}
