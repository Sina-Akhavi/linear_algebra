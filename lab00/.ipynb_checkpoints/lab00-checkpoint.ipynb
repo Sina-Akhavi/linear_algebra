{
 "cells": [
  {
   "cell_type": "code",
   "execution_count": 16,
   "id": "b19163b0-6ec4-4357-bb9f-310549a6f8bd",
   "metadata": {},
   "outputs": [],
   "source": [
    "f = 1.1"
   ]
  },
  {
   "cell_type": "code",
   "execution_count": 20,
   "id": "6916c4be-6a14-4d72-bd95-3ab8735b3295",
   "metadata": {},
   "outputs": [
    {
     "data": {
      "text/plain": [
       "1.1"
      ]
     },
     "execution_count": 20,
     "metadata": {},
     "output_type": "execute_result"
    }
   ],
   "source": [
    "f"
   ]
  },
  {
   "cell_type": "code",
   "execution_count": 21,
   "id": "d205c704-4eed-4113-a89a-c1965dc81fb9",
   "metadata": {},
   "outputs": [],
   "source": [
    "s = 'Salam!!'"
   ]
  },
  {
   "cell_type": "code",
   "execution_count": 22,
   "id": "f4b47a6f-8ddc-475e-9151-8e60d03dc418",
   "metadata": {},
   "outputs": [
    {
     "data": {
      "text/plain": [
       "'Salam!!'"
      ]
     },
     "execution_count": 22,
     "metadata": {},
     "output_type": "execute_result"
    }
   ],
   "source": [
    "s"
   ]
  },
  {
   "cell_type": "code",
   "execution_count": 23,
   "id": "cf468b9c-6abc-43bb-a6e5-19d68a489d3f",
   "metadata": {},
   "outputs": [
    {
     "data": {
      "text/plain": [
       "str"
      ]
     },
     "execution_count": 23,
     "metadata": {},
     "output_type": "execute_result"
    }
   ],
   "source": [
    "type(s)"
   ]
  },
  {
   "cell_type": "code",
   "execution_count": 24,
   "id": "ef077b6b-1b16-41b4-a3bf-6ed51607a7bc",
   "metadata": {},
   "outputs": [
    {
     "data": {
      "text/plain": [
       "float"
      ]
     },
     "execution_count": 24,
     "metadata": {},
     "output_type": "execute_result"
    }
   ],
   "source": [
    "type(f)"
   ]
  },
  {
   "cell_type": "code",
   "execution_count": 27,
   "id": "e7d4343b-e51f-48cf-a8d2-f889a563d5fb",
   "metadata": {},
   "outputs": [
    {
     "data": {
      "text/plain": [
       "int"
      ]
     },
     "execution_count": 27,
     "metadata": {},
     "output_type": "execute_result"
    }
   ],
   "source": [
    "integer = 5\n",
    "type(integer)"
   ]
  },
  {
   "cell_type": "code",
   "execution_count": 30,
   "id": "0fde8ca6-148e-4a6d-8b7f-53dac11a2317",
   "metadata": {},
   "outputs": [
    {
     "data": {
      "text/plain": [
       "9"
      ]
     },
     "execution_count": 30,
     "metadata": {},
     "output_type": "execute_result"
    }
   ],
   "source": [
    "f = 9.9\n",
    "int(f)"
   ]
  },
  {
   "cell_type": "code",
   "execution_count": 38,
   "id": "009d70d9-8157-4f29-979f-02063603ffa3",
   "metadata": {},
   "outputs": [
    {
     "data": {
      "text/plain": [
       "1.1"
      ]
     },
     "execution_count": 38,
     "metadata": {},
     "output_type": "execute_result"
    }
   ],
   "source": [
    "# float(1.1)\n",
    "float('1.1')"
   ]
  },
  {
   "cell_type": "code",
   "execution_count": 40,
   "id": "074dd00e-8bc6-44b9-9092-d0d349ac26fe",
   "metadata": {},
   "outputs": [
    {
     "data": {
      "text/plain": [
       "1"
      ]
     },
     "execution_count": 40,
     "metadata": {},
     "output_type": "execute_result"
    }
   ],
   "source": [
    "# truthiness\n",
    "int(False)\n",
    "int(True)"
   ]
  },
  {
   "cell_type": "code",
   "execution_count": 42,
   "id": "e4e29302-e276-4801-b02e-97c84b5b95dd",
   "metadata": {},
   "outputs": [],
   "source": [
    "import math"
   ]
  },
  {
   "cell_type": "code",
   "execution_count": 43,
   "id": "a24e508c-14b7-47b3-9b5e-e2326c0fa40c",
   "metadata": {},
   "outputs": [
    {
     "name": "stdout",
     "output_type": "stream",
     "text": [
      "a = 3, b = 4\n"
     ]
    }
   ],
   "source": [
    "a, b = 3, 4\n",
    "print(f\"a = {a}, b = {b}\")"
   ]
  },
  {
   "cell_type": "code",
   "execution_count": 45,
   "id": "d6fb5fe1-65ce-4171-9151-7e2149845ea7",
   "metadata": {},
   "outputs": [
    {
     "data": {
      "text/plain": [
       "5.0"
      ]
     },
     "execution_count": 45,
     "metadata": {},
     "output_type": "execute_result"
    }
   ],
   "source": [
    "a, b, c = 3, 4, math.sqrt(a**2 + b**2)\n",
    "# c = math.sqrt(a**2 + b**2)\n",
    "c"
   ]
  },
  {
   "cell_type": "code",
   "execution_count": 46,
   "id": "7adef246-cfbc-4045-85bf-db5ce712a159",
   "metadata": {},
   "outputs": [
    {
     "data": {
      "text/plain": [
       "2.5"
      ]
     },
     "execution_count": 46,
     "metadata": {},
     "output_type": "execute_result"
    }
   ],
   "source": [
    "5 / 2"
   ]
  },
  {
   "cell_type": "code",
   "execution_count": 47,
   "id": "6887ef7b-6dc7-489b-b02b-e7eb4b295ac8",
   "metadata": {},
   "outputs": [
    {
     "data": {
      "text/plain": [
       "2"
      ]
     },
     "execution_count": 47,
     "metadata": {},
     "output_type": "execute_result"
    }
   ],
   "source": [
    "5 // 2"
   ]
  },
  {
   "cell_type": "code",
   "execution_count": 49,
   "id": "6972aaf8-a9c1-4bcb-91a3-a237b12a6bb6",
   "metadata": {},
   "outputs": [
    {
     "name": "stdout",
     "output_type": "stream",
     "text": [
      "3.3333333333333335 3 3.0\n"
     ]
    }
   ],
   "source": [
    "print(10 / 3, 10 // 3, 10 // 3.0)"
   ]
  },
  {
   "cell_type": "code",
   "execution_count": 50,
   "id": "fe30edfc-b8f6-4c98-b57f-c64c29adc1fe",
   "metadata": {},
   "outputs": [],
   "source": [
    "a, b = 20, 30"
   ]
  },
  {
   "cell_type": "code",
   "execution_count": 51,
   "id": "08920a6d-a406-4e6a-903c-e0ca0f94a0c9",
   "metadata": {},
   "outputs": [
    {
     "data": {
      "text/plain": [
       "False"
      ]
     },
     "execution_count": 51,
     "metadata": {},
     "output_type": "execute_result"
    }
   ],
   "source": [
    "not (a < b and a == 20)"
   ]
  },
  {
   "cell_type": "code",
   "execution_count": 52,
   "id": "c50ced9f-acee-41ba-8b6f-365108ab8158",
   "metadata": {},
   "outputs": [
    {
     "ename": "SyntaxError",
     "evalue": "invalid syntax (535855845.py, line 1)",
     "output_type": "error",
     "traceback": [
      "\u001b[0;36m  Cell \u001b[0;32mIn[52], line 1\u001b[0;36m\u001b[0m\n\u001b[0;31m    s3 = 'it's a nice day'\u001b[0m\n\u001b[0m             ^\u001b[0m\n\u001b[0;31mSyntaxError\u001b[0m\u001b[0;31m:\u001b[0m invalid syntax\n"
     ]
    }
   ],
   "source": [
    "# string \n",
    "s3 = 'it's a nice day'"
   ]
  },
  {
   "cell_type": "code",
   "execution_count": 54,
   "id": "1e6921ee-f960-4e39-8f5e-2286b1574a2c",
   "metadata": {},
   "outputs": [
    {
     "data": {
      "text/plain": [
       "\"it's a nice day\""
      ]
     },
     "execution_count": 54,
     "metadata": {},
     "output_type": "execute_result"
    }
   ],
   "source": [
    "s3 = \"it's a nice day\"\n",
    "s3"
   ]
  },
  {
   "cell_type": "code",
   "execution_count": 56,
   "id": "d1310dfb-22e5-4b8f-987c-4ae2a4977af9",
   "metadata": {},
   "outputs": [
    {
     "data": {
      "text/plain": [
       "False"
      ]
     },
     "execution_count": 56,
     "metadata": {},
     "output_type": "execute_result"
    }
   ],
   "source": [
    "s1 = 'sina'\n",
    "# s2 = \"sina\"\n",
    "s2 = \"Sina\"\n",
    "\n",
    "s1 == s2"
   ]
  },
  {
   "cell_type": "code",
   "execution_count": 57,
   "id": "cbc5eee3-355e-4fc4-a926-8e4f74c59c16",
   "metadata": {},
   "outputs": [
    {
     "data": {
      "text/plain": [
       "4"
      ]
     },
     "execution_count": 57,
     "metadata": {},
     "output_type": "execute_result"
    }
   ],
   "source": [
    "len(s2)"
   ]
  },
  {
   "cell_type": "code",
   "execution_count": 58,
   "id": "20cbd925-f6f3-420d-9ddd-20a619394f1f",
   "metadata": {},
   "outputs": [
    {
     "data": {
      "text/plain": [
       "'sinaSina'"
      ]
     },
     "execution_count": 58,
     "metadata": {},
     "output_type": "execute_result"
    }
   ],
   "source": [
    "s1 + s2"
   ]
  },
  {
   "cell_type": "code",
   "execution_count": 61,
   "id": "ee8c440b-256e-488f-924a-a07ddca353f2",
   "metadata": {},
   "outputs": [
    {
     "ename": "NameError",
     "evalue": "name 'Str' is not defined",
     "output_type": "error",
     "traceback": [
      "\u001b[0;31m---------------------------------------------------------------------------\u001b[0m",
      "\u001b[0;31mNameError\u001b[0m                                 Traceback (most recent call last)",
      "Cell \u001b[0;32mIn[61], line 1\u001b[0m\n\u001b[0;32m----> 1\u001b[0m \u001b[43mStr\u001b[49m\u001b[38;5;241m.\u001b[39mconcat(s1, s2)\n",
      "\u001b[0;31mNameError\u001b[0m: name 'Str' is not defined"
     ]
    }
   ],
   "source": [
    "Str.concat(s1, s2) # error"
   ]
  },
  {
   "cell_type": "code",
   "execution_count": 72,
   "id": "41e912aa-a159-419d-bde8-56c54782b706",
   "metadata": {},
   "outputs": [
    {
     "data": {
      "text/plain": [
       "'n'"
      ]
     },
     "execution_count": 72,
     "metadata": {},
     "output_type": "execute_result"
    }
   ],
   "source": [
    "s = 'If you put all your efforts, you\"ll finally achieve what you want!'\n",
    "s[0]\n",
    "s[1]\n",
    "s[2]\n",
    "s[-1]\n",
    "s[-3]"
   ]
  },
  {
   "cell_type": "code",
   "execution_count": 64,
   "id": "097df455-878a-4974-9014-5c5bd912565a",
   "metadata": {},
   "outputs": [
    {
     "data": {
      "text/plain": [
       "'Majin'"
      ]
     },
     "execution_count": 64,
     "metadata": {},
     "output_type": "execute_result"
    }
   ],
   "source": [
    "s[0:]"
   ]
  },
  {
   "cell_type": "code",
   "execution_count": 65,
   "id": "e34b864e-2498-4313-a66c-434333d889f0",
   "metadata": {},
   "outputs": [
    {
     "data": {
      "text/plain": [
       "'Ma'"
      ]
     },
     "execution_count": 65,
     "metadata": {},
     "output_type": "execute_result"
    }
   ],
   "source": [
    "s[0:2]"
   ]
  },
  {
   "cell_type": "code",
   "execution_count": 66,
   "id": "ba203e91-11bf-4d89-85c4-02519b6678bb",
   "metadata": {},
   "outputs": [
    {
     "data": {
      "text/plain": [
       "'aji'"
      ]
     },
     "execution_count": 66,
     "metadata": {},
     "output_type": "execute_result"
    }
   ],
   "source": [
    "s[1:4]"
   ]
  },
  {
   "cell_type": "code",
   "execution_count": 67,
   "id": "a6e4067e-f95c-4781-8419-893b0b23ac30",
   "metadata": {},
   "outputs": [
    {
     "data": {
      "text/plain": [
       "'jin'"
      ]
     },
     "execution_count": 67,
     "metadata": {},
     "output_type": "execute_result"
    }
   ],
   "source": [
    "s[2:]"
   ]
  },
  {
   "cell_type": "code",
   "execution_count": 68,
   "id": "a68d32bc-082c-4a84-89c9-35dd42785c4c",
   "metadata": {},
   "outputs": [
    {
     "data": {
      "text/plain": [
       "'Maji'"
      ]
     },
     "execution_count": 68,
     "metadata": {},
     "output_type": "execute_result"
    }
   ],
   "source": [
    "s[:-1]"
   ]
  },
  {
   "cell_type": "code",
   "execution_count": 69,
   "id": "be8f3bd6-10b8-4f89-909c-4ce950630671",
   "metadata": {},
   "outputs": [
    {
     "data": {
      "text/plain": [
       "'Maj'"
      ]
     },
     "execution_count": 69,
     "metadata": {},
     "output_type": "execute_result"
    }
   ],
   "source": [
    "s[:-2]"
   ]
  },
  {
   "cell_type": "code",
   "execution_count": 74,
   "id": "2195d95e-63df-4422-933e-cc362120cc67",
   "metadata": {},
   "outputs": [
    {
     "data": {
      "text/plain": [
       "'fyu'"
      ]
     },
     "execution_count": 74,
     "metadata": {},
     "output_type": "execute_result"
    }
   ],
   "source": [
    "s[1:7:2]"
   ]
  },
  {
   "cell_type": "code",
   "execution_count": 75,
   "id": "565b86c7-9cad-4860-bf18-bfbcf941988f",
   "metadata": {},
   "outputs": [],
   "source": [
    "i = 1\n",
    "d = 1.1\n",
    "s = \"Salam\""
   ]
  },
  {
   "cell_type": "code",
   "execution_count": 76,
   "id": "ac44ebc0-7ae5-4ab1-ae6f-503b72a35fdd",
   "metadata": {},
   "outputs": [
    {
     "data": {
      "text/plain": [
       "'num = 1'"
      ]
     },
     "execution_count": 76,
     "metadata": {},
     "output_type": "execute_result"
    }
   ],
   "source": [
    "\"num = %d\"%i"
   ]
  },
  {
   "cell_type": "code",
   "execution_count": 77,
   "id": "9cbc9454-20fc-4b95-af6b-afeb74f12d7f",
   "metadata": {},
   "outputs": [
    {
     "data": {
      "text/plain": [
       "'9.900000 1 Salam'"
      ]
     },
     "execution_count": 77,
     "metadata": {},
     "output_type": "execute_result"
    }
   ],
   "source": [
    "s1 = \"%f %i %s\"%(f,i,s)\n",
    "s1"
   ]
  },
  {
   "cell_type": "code",
   "execution_count": 79,
   "id": "b62b2ce0-aa53-4dc1-9b43-c90926b993a4",
   "metadata": {},
   "outputs": [
    {
     "data": {
      "text/plain": [
       "tuple"
      ]
     },
     "execution_count": 79,
     "metadata": {},
     "output_type": "execute_result"
    }
   ],
   "source": [
    "type((f, i, s))"
   ]
  },
  {
   "cell_type": "code",
   "execution_count": 80,
   "id": "cae7ebc3-7f66-4a3a-b589-f832265b5323",
   "metadata": {},
   "outputs": [
    {
     "data": {
      "text/plain": [
       "'float=1.100000, integer=1, and string=Salam.'"
      ]
     },
     "execution_count": 80,
     "metadata": {},
     "output_type": "execute_result"
    }
   ],
   "source": [
    "\"float=%f, integer=%i, and string=%s.\"%(d,i,s)"
   ]
  },
  {
   "cell_type": "code",
   "execution_count": 81,
   "id": "b9e91bd6-a82f-4c11-91ff-24a23ceda93e",
   "metadata": {},
   "outputs": [
    {
     "data": {
      "text/plain": [
       "'float=1.1, integer=1, and string=Salam.'"
      ]
     },
     "execution_count": 81,
     "metadata": {},
     "output_type": "execute_result"
    }
   ],
   "source": [
    "\"float={}, integer={}, and string={}.\".format(d,i,s)"
   ]
  },
  {
   "cell_type": "code",
   "execution_count": 83,
   "id": "9123a453-0cf3-4760-ae15-8f608baaa016",
   "metadata": {},
   "outputs": [
    {
     "data": {
      "text/plain": [
       "'float=1.1, integer=1, and string=Salam.'"
      ]
     },
     "execution_count": 83,
     "metadata": {},
     "output_type": "execute_result"
    }
   ],
   "source": [
    "f\"float={d}, integer={i}, and string={s}.\""
   ]
  },
  {
   "cell_type": "code",
   "execution_count": 84,
   "id": "c95faabd-559b-4cde-a094-cca81df84376",
   "metadata": {},
   "outputs": [
    {
     "data": {
      "text/plain": [
       "'sides of a triangle are 5, 12 and 13'"
      ]
     },
     "execution_count": 84,
     "metadata": {},
     "output_type": "execute_result"
    }
   ],
   "source": [
    "'sides of a triangle are {}, {} and {}'.format(5, 12, 13)"
   ]
  },
  {
   "cell_type": "code",
   "execution_count": 85,
   "id": "13c556e6-e51b-4ce4-b462-af132dbc978d",
   "metadata": {},
   "outputs": [
    {
     "data": {
      "text/plain": [
       "'sides of a triangle are 5, 12 and 13'"
      ]
     },
     "execution_count": 85,
     "metadata": {},
     "output_type": "execute_result"
    }
   ],
   "source": [
    "'sides of a triangle are %i, %i and %i'%(5, 12, 13)"
   ]
  },
  {
   "cell_type": "code",
   "execution_count": 86,
   "id": "dd6a8ffc-393f-4f22-8efa-856eb7f30588",
   "metadata": {},
   "outputs": [],
   "source": [
    "# Tupples"
   ]
  },
  {
   "cell_type": "code",
   "execution_count": 105,
   "id": "6ce9cbb5-71eb-4bd1-a0fc-706f920ae2e3",
   "metadata": {},
   "outputs": [
    {
     "name": "stdout",
     "output_type": "stream",
     "text": [
      "(2, 'abc', 13.2)\n"
     ]
    },
    {
     "data": {
      "text/plain": [
       "(2, 'abc', 13.2)"
      ]
     },
     "execution_count": 105,
     "metadata": {},
     "output_type": "execute_result"
    }
   ],
   "source": [
    "t = (1, 7)\n",
    "p = (2, 'abc', 13.2)\n",
    "print(p)\n",
    "p"
   ]
  },
  {
   "cell_type": "code",
   "execution_count": 94,
   "id": "757519b8-59ae-44bb-94a6-ce5becf0723f",
   "metadata": {},
   "outputs": [
    {
     "name": "stdout",
     "output_type": "stream",
     "text": [
      "p[0]=2, p[1]=abc and p[2]=13.2000002\n"
     ]
    }
   ],
   "source": [
    "print('p[0]=%i, p[1]=%s and p[2]=%f'%(p[0], p[1], p[2]))"
   ]
  },
  {
   "cell_type": "code",
   "execution_count": 95,
   "id": "264b39f9-2866-4ad5-8fa3-49852741d73d",
   "metadata": {},
   "outputs": [
    {
     "data": {
      "text/plain": [
       "(2, 'abc', 13.2, 10, 20, 30)"
      ]
     },
     "execution_count": 95,
     "metadata": {},
     "output_type": "execute_result"
    }
   ],
   "source": [
    "p + (10,20,30)"
   ]
  },
  {
   "cell_type": "code",
   "execution_count": 102,
   "id": "04e58b7b-4389-4f4a-b3f7-2cb4062b6f2c",
   "metadata": {},
   "outputs": [
    {
     "data": {
      "text/plain": [
       "(2, 'abc', 13.2, 100, 100)"
      ]
     },
     "execution_count": 102,
     "metadata": {},
     "output_type": "execute_result"
    }
   ],
   "source": [
    "p += (100,)\n",
    "p"
   ]
  },
  {
   "cell_type": "code",
   "execution_count": 103,
   "id": "812ce2e7-084b-4774-9824-a9bcc9ba2147",
   "metadata": {},
   "outputs": [
    {
     "data": {
      "text/plain": [
       "(2, 'abc', 13.2, 100, 100, 2, 'abc', 13.2, 100, 100, 2, 'abc', 13.2, 100, 100)"
      ]
     },
     "execution_count": 103,
     "metadata": {},
     "output_type": "execute_result"
    }
   ],
   "source": [
    "p * 3"
   ]
  },
  {
   "cell_type": "code",
   "execution_count": 104,
   "id": "7ea0b753-d382-4c54-9a1f-cd75912b2762",
   "metadata": {},
   "outputs": [
    {
     "ename": "TypeError",
     "evalue": "can only concatenate tuple (not \"int\") to tuple",
     "output_type": "error",
     "traceback": [
      "\u001b[0;31m---------------------------------------------------------------------------\u001b[0m",
      "\u001b[0;31mTypeError\u001b[0m                                 Traceback (most recent call last)",
      "Cell \u001b[0;32mIn[104], line 1\u001b[0m\n\u001b[0;32m----> 1\u001b[0m \u001b[43mp\u001b[49m\u001b[43m \u001b[49m\u001b[38;5;241;43m+\u001b[39;49m\u001b[43m \u001b[49m\u001b[38;5;241;43m2\u001b[39;49m\n",
      "\u001b[0;31mTypeError\u001b[0m: can only concatenate tuple (not \"int\") to tuple"
     ]
    }
   ],
   "source": [
    "p + 2"
   ]
  },
  {
   "cell_type": "code",
   "execution_count": 107,
   "id": "a4ff7b5d-d237-4dcf-852c-3725995128af",
   "metadata": {},
   "outputs": [
    {
     "data": {
      "text/plain": [
       "(2, 'abc', 13.2, 1, 7)"
      ]
     },
     "execution_count": 107,
     "metadata": {},
     "output_type": "execute_result"
    }
   ],
   "source": [
    "p + t"
   ]
  },
  {
   "cell_type": "code",
   "execution_count": 108,
   "id": "485f4705-6672-4d4c-80c2-ab8047838e04",
   "metadata": {},
   "outputs": [
    {
     "ename": "TypeError",
     "evalue": "'tuple' object does not support item assignment",
     "output_type": "error",
     "traceback": [
      "\u001b[0;31m---------------------------------------------------------------------------\u001b[0m",
      "\u001b[0;31mTypeError\u001b[0m                                 Traceback (most recent call last)",
      "Cell \u001b[0;32mIn[108], line 1\u001b[0m\n\u001b[0;32m----> 1\u001b[0m \u001b[43mp\u001b[49m\u001b[43m[\u001b[49m\u001b[38;5;241;43m0\u001b[39;49m\u001b[43m]\u001b[49m \u001b[38;5;241m=\u001b[39m \u001b[38;5;241m8\u001b[39m\n",
      "\u001b[0;31mTypeError\u001b[0m: 'tuple' object does not support item assignment"
     ]
    }
   ],
   "source": [
    "p[0] = 8"
   ]
  },
  {
   "cell_type": "code",
   "execution_count": 118,
   "id": "e8fa2cdd-81fb-45c5-8bb8-57186bc51749",
   "metadata": {},
   "outputs": [],
   "source": [
    "# List\n",
    "l = [i,f,s,2]"
   ]
  },
  {
   "cell_type": "code",
   "execution_count": 110,
   "id": "f4f39d4b-945a-4f0a-b733-7081f06c5dd4",
   "metadata": {},
   "outputs": [
    {
     "data": {
      "text/plain": [
       "[1, 9.9, 'Salam', 2]"
      ]
     },
     "execution_count": 110,
     "metadata": {},
     "output_type": "execute_result"
    }
   ],
   "source": [
    "l"
   ]
  },
  {
   "cell_type": "code",
   "execution_count": 111,
   "id": "dc46b7b9-4ea4-4949-b254-d72f057342cd",
   "metadata": {},
   "outputs": [
    {
     "data": {
      "text/plain": [
       "[1, 9.9, 'Salam', 2, True]"
      ]
     },
     "execution_count": 111,
     "metadata": {},
     "output_type": "execute_result"
    }
   ],
   "source": [
    "l = l + [True]\n",
    "l"
   ]
  },
  {
   "cell_type": "code",
   "execution_count": 115,
   "id": "2b009a70-c3e7-4a07-96a5-7392fc5b8a31",
   "metadata": {},
   "outputs": [
    {
     "data": {
      "text/plain": [
       "[1, 9.9, 'Salam', 2, 2, 2, 2]"
      ]
     },
     "execution_count": 115,
     "metadata": {},
     "output_type": "execute_result"
    }
   ],
   "source": [
    "l = l + [2, 2, 2]\n",
    "l"
   ]
  },
  {
   "cell_type": "code",
   "execution_count": 119,
   "id": "75d3666b-dde5-4263-8621-b44d81a5722f",
   "metadata": {},
   "outputs": [
    {
     "data": {
      "text/plain": [
       "[100, 1, 9.9, 'Salam', 2]"
      ]
     },
     "execution_count": 119,
     "metadata": {},
     "output_type": "execute_result"
    }
   ],
   "source": [
    "l.insert(0,100)\n",
    "l"
   ]
  },
  {
   "cell_type": "code",
   "execution_count": 121,
   "id": "8d983483-45d3-4e9b-909f-31f872563664",
   "metadata": {},
   "outputs": [
    {
     "data": {
      "text/plain": [
       "[100, 1, 111, 111, 9.9, 'Salam', 2]"
      ]
     },
     "execution_count": 121,
     "metadata": {},
     "output_type": "execute_result"
    }
   ],
   "source": [
    "l.insert(2,111)\n",
    "l"
   ]
  },
  {
   "cell_type": "code",
   "execution_count": 122,
   "id": "96820e93-9320-43f2-b9e6-da58ab2bd2b1",
   "metadata": {},
   "outputs": [
    {
     "data": {
      "text/plain": [
       "True"
      ]
     },
     "execution_count": 122,
     "metadata": {},
     "output_type": "execute_result"
    }
   ],
   "source": [
    "100 in l"
   ]
  },
  {
   "cell_type": "code",
   "execution_count": 123,
   "id": "045157fe-3860-40ba-9e30-7948cd15c94b",
   "metadata": {},
   "outputs": [
    {
     "data": {
      "text/plain": [
       "True"
      ]
     },
     "execution_count": 123,
     "metadata": {},
     "output_type": "execute_result"
    }
   ],
   "source": [
    "1 in l"
   ]
  },
  {
   "cell_type": "code",
   "execution_count": 124,
   "id": "4d825639-ed2e-4b3d-b8c8-ad39e57c539c",
   "metadata": {},
   "outputs": [
    {
     "data": {
      "text/plain": [
       "[100, 1, 111, 111, 9.9, 'Salam', 2, 1, 3, 5, 7, 9]"
      ]
     },
     "execution_count": 124,
     "metadata": {},
     "output_type": "execute_result"
    }
   ],
   "source": [
    "a = [1, 3, 5, 7, 9]\n",
    "l.extend(a)\n",
    "l"
   ]
  },
  {
   "cell_type": "code",
   "execution_count": 125,
   "id": "0d4c9576-f1d4-43bd-a641-07217130d84e",
   "metadata": {},
   "outputs": [
    {
     "data": {
      "text/plain": [
       "[100, 1, 111, 111, 9.9, 'Salam', 2, 1, 3, 5]"
      ]
     },
     "execution_count": 125,
     "metadata": {},
     "output_type": "execute_result"
    }
   ],
   "source": [
    "l.pop()\n",
    "l.pop()\n",
    "l"
   ]
  },
  {
   "cell_type": "code",
   "execution_count": 126,
   "id": "2301ebd4-be78-4d3e-9277-7737ae482a65",
   "metadata": {},
   "outputs": [
    {
     "name": "stdout",
     "output_type": "stream",
     "text": [
      "111 [100, 1, 111, 9.9, 'Salam', 2, 1, 3, 5]\n"
     ]
    }
   ],
   "source": [
    "k = l.pop(2)\n",
    "print(k, l)"
   ]
  },
  {
   "cell_type": "code",
   "execution_count": 129,
   "id": "21113c26-6ecd-4954-baad-38b8c5b97efd",
   "metadata": {},
   "outputs": [],
   "source": [
    "l=[100,101,102,103,104,105,106,107,108,109,110,111,112]"
   ]
  },
  {
   "cell_type": "code",
   "execution_count": 134,
   "id": "d045c815-814b-4e4b-a1ab-986edcb7bbe9",
   "metadata": {},
   "outputs": [
    {
     "data": {
      "text/plain": [
       "[101, 103, 105, 107, 109]"
      ]
     },
     "execution_count": 134,
     "metadata": {},
     "output_type": "execute_result"
    }
   ],
   "source": [
    "l[10:1]\n",
    "l[1:10:2]\n"
   ]
  },
  {
   "cell_type": "code",
   "execution_count": 135,
   "id": "48fba456-ebf0-4400-92cc-d481a60d9119",
   "metadata": {},
   "outputs": [
    {
     "data": {
      "text/plain": [
       "[100, 103, 106, 109, 112]"
      ]
     },
     "execution_count": 135,
     "metadata": {},
     "output_type": "execute_result"
    }
   ],
   "source": [
    "l[::3]"
   ]
  },
  {
   "cell_type": "code",
   "execution_count": 137,
   "id": "54a13ad0-1caf-472f-ae22-5f0768e0565e",
   "metadata": {},
   "outputs": [
    {
     "data": {
      "text/plain": [
       "[110, 109, 108, 107, 106, 105, 104, 103, 102]"
      ]
     },
     "execution_count": 137,
     "metadata": {},
     "output_type": "execute_result"
    }
   ],
   "source": [
    "l[10:1:-1]\n"
   ]
  },
  {
   "cell_type": "code",
   "execution_count": 138,
   "id": "b6a3cf98-dcc1-4e9b-94e9-e849b4bde415",
   "metadata": {},
   "outputs": [
    {
     "name": "stdout",
     "output_type": "stream",
     "text": [
      "[4, 100, 7, 2, 0]\n",
      "[4, 1, 7, 2, 0]\n"
     ]
    }
   ],
   "source": [
    "# how to clone an array\n",
    "l = [4,1,7,2,0]\n",
    "t = l[:]\n",
    "l[1] = 100\n",
    "print(l)\n",
    "print(t)"
   ]
  },
  {
   "cell_type": "code",
   "execution_count": 139,
   "id": "b17ffdd6-aeb9-4b54-b7c4-1063f4c36f6c",
   "metadata": {},
   "outputs": [
    {
     "data": {
      "text/plain": [
       "<enumerate at 0x7f4f2d244e00>"
      ]
     },
     "execution_count": 139,
     "metadata": {},
     "output_type": "execute_result"
    }
   ],
   "source": [
    "e = enumerate(l)\n",
    "e\n"
   ]
  },
  {
   "cell_type": "code",
   "execution_count": 140,
   "id": "e1fb4bac-79f9-4c07-96d0-c4d2fcb1f041",
   "metadata": {},
   "outputs": [
    {
     "data": {
      "text/plain": [
       "[(0, 4), (1, 100), (2, 7), (3, 2), (4, 0)]"
      ]
     },
     "execution_count": 140,
     "metadata": {},
     "output_type": "execute_result"
    }
   ],
   "source": [
    "list(e)"
   ]
  },
  {
   "cell_type": "code",
   "execution_count": 141,
   "id": "3e4c663c-2761-4491-b04c-87f26e31f6cb",
   "metadata": {},
   "outputs": [
    {
     "data": {
      "text/plain": [
       "<zip at 0x7f4f2d469e40>"
      ]
     },
     "execution_count": 141,
     "metadata": {},
     "output_type": "execute_result"
    }
   ],
   "source": [
    "z = zip(l,t)\n",
    "z"
   ]
  },
  {
   "cell_type": "code",
   "execution_count": 142,
   "id": "2f3a5369-d37a-478b-9472-aa705c191086",
   "metadata": {},
   "outputs": [
    {
     "data": {
      "text/plain": [
       "[(4, 4), (100, 1), (7, 7), (2, 2), (0, 0)]"
      ]
     },
     "execution_count": 142,
     "metadata": {},
     "output_type": "execute_result"
    }
   ],
   "source": [
    "list(z)"
   ]
  },
  {
   "cell_type": "code",
   "execution_count": 145,
   "id": "8aac9c51-1a4f-4c1f-9ebc-f8bff57882a5",
   "metadata": {},
   "outputs": [
    {
     "data": {
      "text/plain": [
       "[2, 5, 8, 11]"
      ]
     },
     "execution_count": 145,
     "metadata": {},
     "output_type": "execute_result"
    }
   ],
   "source": [
    "# range\n",
    "r1 = range(2, 12, 3)\n",
    "r1\n",
    "list(r1)"
   ]
  },
  {
   "cell_type": "code",
   "execution_count": 146,
   "id": "3bd127cf-c0b9-4f4b-95bd-a47e7737c9b2",
   "metadata": {},
   "outputs": [
    {
     "data": {
      "text/plain": [
       "[20, 17, 14, 11, 8, 5]"
      ]
     },
     "execution_count": 146,
     "metadata": {},
     "output_type": "execute_result"
    }
   ],
   "source": [
    "list(range(20, 2, -3))"
   ]
  },
  {
   "cell_type": "code",
   "execution_count": 147,
   "id": "ad1b94e0-2b10-4bcd-bf06-7d54d66f6566",
   "metadata": {},
   "outputs": [
    {
     "data": {
      "text/plain": [
       "(2, 5, 8, 11)"
      ]
     },
     "execution_count": 147,
     "metadata": {},
     "output_type": "execute_result"
    }
   ],
   "source": [
    "tuple(r1)"
   ]
  },
  {
   "cell_type": "code",
   "execution_count": 155,
   "id": "065322ca-4c13-454a-98ee-beb53412ea5b",
   "metadata": {},
   "outputs": [
    {
     "name": "stdout",
     "output_type": "stream",
     "text": [
      "10 a\n",
      "20 b\n",
      "30 c\n",
      "salam aleik\n"
     ]
    }
   ],
   "source": [
    "# for loops\n",
    "l = [10,20,1.2, 'salam']\n",
    "# for k in l:\n",
    "#     print(k)\n",
    "# for i, k in enumerate(l):\n",
    "#     print(i,k)\n",
    "l1 = [10,20,30, 'salam']\n",
    "l2 = ['a','b','c', 'aleik']\n",
    "for i,j in zip(l1,l2):\n",
    "    print(i,j)\n",
    "# for k in range(2,20):\n",
    "# print(k, k*k)"
   ]
  },
  {
   "cell_type": "code",
   "execution_count": 158,
   "id": "b9e4b77b-f60c-4c5b-b96b-b6492b5cc347",
   "metadata": {},
   "outputs": [
    {
     "data": {
      "text/plain": [
       "'salam aleik'"
      ]
     },
     "execution_count": 158,
     "metadata": {},
     "output_type": "execute_result"
    }
   ],
   "source": [
    "# lambda functions\n",
    "\n",
    "f = lambda string : string + ' aleik'\n",
    "f('salam')"
   ]
  },
  {
   "cell_type": "code",
   "execution_count": 210,
   "id": "81b65518-c746-4429-a59e-9089efd3de7c",
   "metadata": {},
   "outputs": [],
   "source": [
    "# Task1\n"
   ]
  },
  {
   "cell_type": "code",
   "execution_count": 186,
   "id": "aa1e44e0-7349-47ed-ace7-d042415f96c7",
   "metadata": {},
   "outputs": [],
   "source": [
    "def all_column(matrix):\n",
    "    columns = []\n",
    "    n = len(matrix[0])\n",
    "    \n",
    "    for i in range(n):\n",
    "        column = [row[i] for row in matrix]    \n",
    "        columns.append(column)\n",
    "    \n",
    "    return columns\n",
    "    "
   ]
  },
  {
   "cell_type": "code",
   "execution_count": 206,
   "id": "09bf6888-303c-4c62-b35b-6da28dd0b2fd",
   "metadata": {},
   "outputs": [],
   "source": [
    "def mul(matrix1, matrix2):\n",
    "    m, n = len(matrix1[0]), len(matrix2)\n",
    "\n",
    "    if m != n:\n",
    "        return []\n",
    "    \n",
    "    output = []\n",
    "    for row in (matrix1):\n",
    "        new_row = []\n",
    "        for col in all_column(matrix2):\n",
    "            num_elements = len(col)\n",
    "            sum = 0\n",
    "\n",
    "            for i in range(num_elements):\n",
    "                sum = sum + row[i] * col[i]\n",
    "            new_row.append(sum)\n",
    "            \n",
    "        output.append(new_row)\n",
    "\n",
    "    return output\n"
   ]
  },
  {
   "cell_type": "code",
   "execution_count": 203,
   "id": "25b19a92-c29c-458a-b17e-98cd001b8e6d",
   "metadata": {},
   "outputs": [],
   "source": [
    "A = [[1, 0, 0],\n",
    "[0, 0, 3],\n",
    "[0, 2, 0]];\n",
    "\n",
    "B = [[1, 1],\n",
    "     [0, .5],\n",
    "    [2, 1/3.0]];\n",
    "C = [[1, 0, 0],\n",
    "    [0, 0, 0.5],\n",
    "    [0, 1/3.0, 0]]"
   ]
  },
  {
   "cell_type": "code",
   "execution_count": 209,
   "id": "ccd8bd71-9c11-4245-86c4-44df64167f6b",
   "metadata": {},
   "outputs": [
    {
     "name": "stdout",
     "output_type": "stream",
     "text": [
      "[[1, 1.0], [6, 1.0], [0, 1.0]]\n",
      "[[1, 0.0, 0.0], [0, 1.0, 0.0], [0, 0.0, 1.0]]\n"
     ]
    }
   ],
   "source": [
    "print(mul(A,B))\n",
    "# print(mul(B,A))\n",
    "print(mul(A,C))"
   ]
  },
  {
   "cell_type": "code",
   "execution_count": null,
   "id": "1a8dcec9-45c7-43e4-91e3-e1bf1d45bfb4",
   "metadata": {},
   "outputs": [],
   "source": []
  }
 ],
 "metadata": {
  "kernelspec": {
   "display_name": "Python 3 (ipykernel)",
   "language": "python",
   "name": "python3"
  },
  "language_info": {
   "codemirror_mode": {
    "name": "ipython",
    "version": 3
   },
   "file_extension": ".py",
   "mimetype": "text/x-python",
   "name": "python",
   "nbconvert_exporter": "python",
   "pygments_lexer": "ipython3",
   "version": "3.8.10"
  }
 },
 "nbformat": 4,
 "nbformat_minor": 5
}
